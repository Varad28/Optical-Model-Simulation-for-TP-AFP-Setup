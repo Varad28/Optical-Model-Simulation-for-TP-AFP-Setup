{
 "cells": [
  {
   "cell_type": "markdown",
   "metadata": {},
   "source": [
    "Varad Kulkarni\n",
    "\n",
    "2-D Optical Model for Laser-Assisted Thermoplastic-Automated Fibre Placement"
   ]
  },
  {
   "cell_type": "code",
   "execution_count": 20,
   "metadata": {
    "scrolled": false
   },
   "outputs": [
    {
     "name": "stdout",
     "output_type": "stream",
     "text": [
      "Focus Point: [112.31839823946083, 57.70969573021867]\n",
      "Tangent Point: [37.41649932998122, 16.833668006704226]\n",
      "\n",
      "Equtions of all the rays are:\n"
     ]
    },
    {
     "data": {
      "text/latex": [
       "$\\displaystyle 45.0996574293874 x - 76.5640251121118 y - 647.034690516397 = 0$"
      ],
      "text/plain": [
       "Eq(45.0996574293874*x - 76.5640251121118*y - 647.034690516397, 0)"
      ]
     },
     "metadata": {},
     "output_type": "display_data"
    },
    {
     "data": {
      "text/latex": [
       "$\\displaystyle 46.9944337523975 x - 75.4158619781523 y - 926.113077248401 = 0$"
      ],
      "text/plain": [
       "Eq(46.9944337523975*x - 75.4158619781523*y - 926.113077248401, 0)"
      ]
     },
     "metadata": {},
     "output_type": "display_data"
    },
    {
     "data": {
      "text/latex": [
       "$\\displaystyle 48.8599966436641 x - 74.2208176295392 y - 1204.61575875303 = 0$"
      ],
      "text/plain": [
       "Eq(48.8599966436641*x - 74.2208176295392*y - 1204.61575875303, 0)"
      ]
     },
     "metadata": {},
     "output_type": "display_data"
    },
    {
     "data": {
      "text/latex": [
       "$\\displaystyle 50.695186402137 x - 72.9796349488594 y - 1482.36960773782 = 0$"
      ],
      "text/plain": [
       "Eq(50.695186402137*x - 72.9796349488594*y - 1482.36960773782, 0)"
      ]
     },
     "metadata": {},
     "output_type": "display_data"
    },
    {
     "data": {
      "text/latex": [
       "$\\displaystyle 52.4988622077983 x - 71.6930854999476 y - 1759.20196241155 = 0$"
      ],
      "text/plain": [
       "Eq(52.4988622077983*x - 71.6930854999476*y - 1759.20196241155, 0)"
      ]
     },
     "metadata": {},
     "output_type": "display_data"
    },
    {
     "data": {
      "text/latex": [
       "$\\displaystyle 54.269902830838 x - 70.361969048255 y - 2034.94073381704 = 0$"
      ],
      "text/plain": [
       "Eq(54.269902830838*x - 70.361969048255*y - 2034.94073381704, 0)"
      ]
     },
     "metadata": {},
     "output_type": "display_data"
    },
    {
     "data": {
      "text/latex": [
       "$\\displaystyle 56.0072073286501 x - 68.987113063686 y - 2309.41451280786 = 0$"
      ],
      "text/plain": [
       "Eq(56.0072073286501*x - 68.987113063686*y - 2309.41451280786, 0)"
      ]
     },
     "metadata": {},
     "output_type": "display_data"
    },
    {
     "data": {
      "text/latex": [
       "$\\displaystyle 57.7096957302187 x - 67.5693722062132 y - 2582.45267660236 = 0$"
      ],
      "text/plain": [
       "Eq(57.7096957302187*x - 67.5693722062132*y - 2582.45267660236, 0)"
      ]
     },
     "metadata": {},
     "output_type": "display_data"
    },
    {
     "data": {
      "text/latex": [
       "$\\displaystyle 59.3763097074665 x - 66.1096277945899 y - 2853.885494849 = 0$"
      ],
      "text/plain": [
       "Eq(59.3763097074665*x - 66.1096277945899*y - 2853.885494849, 0)"
      ]
     },
     "metadata": {},
     "output_type": "display_data"
    },
    {
     "data": {
      "text/latex": [
       "$\\displaystyle 61.00601323315 x - 64.6087872584908 y - 3123.54423513682 = 0$"
      ],
      "text/plain": [
       "Eq(61.00601323315*x - 64.6087872584908*y - 3123.54423513682, 0)"
      ]
     },
     "metadata": {},
     "output_type": "display_data"
    },
    {
     "data": {
      "text/latex": [
       "$\\displaystyle 62.5977932248908 x - 63.067783574421 y - 3391.26126788559 = 0$"
      ],
      "text/plain": [
       "Eq(62.5977932248908*x - 63.067783574421*y - 3391.26126788559, 0)"
      ]
     },
     "metadata": {},
     "output_type": "display_data"
    },
    {
     "data": {
      "text/latex": [
       "$\\displaystyle 64.1506601749447 x - 61.487574685744 y - 3656.87017055038 = 0$"
      ],
      "text/plain": [
       "Eq(64.1506601749447*x - 61.487574685744*y - 3656.87017055038, 0)"
      ]
     },
     "metadata": {},
     "output_type": "display_data"
    },
    {
     "data": {
      "text/latex": [
       "$\\displaystyle 65.6636487653149 x - 59.8691429071902 y - 3920.20583107579 = 0$"
      ],
      "text/plain": [
       "Eq(65.6636487653149*x - 59.8691429071902*y - 3920.20583107579, 0)"
      ]
     },
     "metadata": {},
     "output_type": "display_data"
    },
    {
     "data": {
      "text/latex": [
       "$\\displaystyle 67.1358184678283 x - 58.2134943142137 y - 4181.1045505356 = 0$"
      ],
      "text/plain": [
       "Eq(67.1358184678283*x - 58.2134943142137*y - 4181.1045505356, 0)"
      ]
     },
     "metadata": {},
     "output_type": "display_data"
    },
    {
     "data": {
      "text/latex": [
       "$\\displaystyle 68.5662541288023 x - 56.5216581175808 y - 4439.40414489386 = 0$"
      ],
      "text/plain": [
       "Eq(68.5662541288023*x - 56.5216581175808*y - 4439.40414489386, 0)"
      ]
     },
     "metadata": {},
     "output_type": "display_data"
    },
    {
     "name": "stdout",
     "output_type": "stream",
     "text": [
      "Final rol: {}\n",
      "\n",
      "Substrate incidences: dict_values([[33.5093350299358, 0.0], [57.0044043284631, 0.0], [54.1754124734404, 0.0], [51.2005959674729, 0.0], [29.2408355298075, 0.0], [41.2342379304189, 0.0], [59.7013097016098, 0.0], [19.7068674585563, 0.0], [62.2782986184819, 0.0], [24.6544380168155, 0.0], [48.0643796980554, 0.0], [64.7461962345850, 0.0], [37.4966717769896, 0.0], [14.3467761707383, 0.0], [44.7490260332477, 0.0]])\n",
      "\n",
      "Tape incidences: dict_values([])\n",
      "\n",
      "Roller incidences: dict_values([])\n"
     ]
    },
    {
     "data": {
      "text/latex": [
       "$\\displaystyle 93.1663319932958 x - 82.5835006700188 y - 2095.77476549343 = 0$"
      ],
      "text/plain": [
       "Eq(93.1663319932958*x - 82.5835006700188*y - 2095.77476549343, 0)"
      ]
     },
     "metadata": {},
     "output_type": "display_data"
    },
    {
     "data": {
      "text/latex": [
       "$\\displaystyle x^{2} + \\left(y - 50\\right)^{2} - 2500 = 0$"
      ],
      "text/plain": [
       "Eq(x**2 + (y - 50)**2 - 2500, 0)"
      ]
     },
     "metadata": {},
     "output_type": "display_data"
    }
   ],
   "source": [
    "%matplotlib notebook\n",
    "\n",
    "import math\n",
    "\n",
    "import sympy as sp\n",
    "\n",
    "from sympy import Eq\n",
    "\n",
    "import numpy as np\n",
    "\n",
    "import matplotlib.pyplot as plt\n",
    "\n",
    "##Input:\n",
    "\n",
    "d = 40  # d = float(input('Enter diameter of laser head: '))\n",
    "\n",
    "a1 = 115  # a1 = float(input('Enter x co-ordinate of the laser head: '))\n",
    "\n",
    "b1 = 60  # b1 = float(input('Enter y co-ordinate of the laser haed: '))\n",
    "\n",
    "phid = 10  # phid = float(input('Enter opening angle: '))\n",
    "\n",
    "thetad = 40.5  # thetad = float(input('Enter angle of incedence: '))\n",
    "\n",
    "n = 15 # n = float(input('Enter number of rays to analyse: ')) #n has to be an odd number!\n",
    "\n",
    "k = 50  # n = float(input('Enter radius of consolidation roller: '))\n",
    "\n",
    "a2 = 120  # n = float(input('Enter x co-ordinate of exit point of tape from placement head: '))\n",
    "\n",
    "b2 = 110  # n = float(input('Enter y co-ordinate of exit point of tape from placement head: '))\n",
    "\n",
    "##Converting angles to radians:\n",
    "\n",
    "theta = math.radians(thetad)\n",
    "\n",
    "phi = math.radians(phid) \n",
    "\n",
    "##Calculating focus point co-ordinates:\n",
    "\n",
    "a0 = a1 - (d * math.cos(theta)/2 * math.tan(phi))\n",
    "\n",
    "b0 = b1 - (d * math.sin(theta)/2 * math.tan(phi))\n",
    "\n",
    "print('Focus Point:',[a0,b0])\n",
    "\n",
    "##Calculating Tangent point to Roller:\n",
    "\n",
    "eq1 = sp.Function('eq1')\n",
    "\n",
    "eq2 = sp.Function('eq2')\n",
    "\n",
    "p, q = sp.symbols('p q') #(p,q) is the tangent point \n",
    "\n",
    "eq1 = Eq(p**2 + (q - k)**2 - k**2, 0) #Equation of circle that (p,q) satisfies \n",
    "\n",
    "eq2 = Eq((q - k) * (b2 - q) - p * (p - a2), 0) #Equation developed from slope relation m1 = -1/m2 \n",
    "\n",
    "l = sp.solve([eq1, eq2], [p, q]) #Tuple in list; 2 tangent points\n",
    "\n",
    "##Filtering out the required tangent point:\n",
    "\n",
    "t1 = [] #Empty list to store x co-rdinates of the 2 tangent points\n",
    "\n",
    "for t in l: #for any element in list l (loop starts from l[0])\n",
    "    \n",
    "    t1.append(t[0]) #From 1st tuple in l (t=0), add element \\w range 0 into t1. ie; the x co-ordinate -> loop continues\n",
    "\n",
    "pq = [] #list of final tangent co-ordinates\n",
    "\n",
    "tgt = list()\n",
    "\n",
    "tgt.append(max(t1[0], t1[1])) #Store the maximum of the 2 x co-ordinates in pq\n",
    "\n",
    "t2 = [] \n",
    "\n",
    "for t in l: #for any element in list l (loop starts from l[0])\n",
    "    \n",
    "    t2.append(t[1]) #From 1st tupple (t=1), add element \\w range 1 in t2. ie; the y co-ordinate -> loop continues \n",
    "    \n",
    "tgt.append(min(t2[0], t2[1])) #Store the minimum of the 2 y co-ordinates in pq\n",
    "\n",
    "p = float(tgt[0])\n",
    "\n",
    "q = float(tgt[1])\n",
    "\n",
    "pq = [p,q]\n",
    "\n",
    "print('Tangent Point:',pq)\n",
    "\n",
    "##Defining all values of opening angle (phi) based on number of rays (n):\n",
    "\n",
    "phidiv = list(np.linspace(-phi, phi, n))\n",
    "\n",
    "##Calculating all normal vectors based on number of rays (n):\n",
    "\n",
    "nv = np.array([b0, -b0/math.tan(theta)])\n",
    "\n",
    "#Calculating rotated normal vectors:\n",
    "\n",
    "anv = []\n",
    "\n",
    "for angle in phidiv:\n",
    "    \n",
    "    mul = np.array([[math.cos(angle), -math.sin(angle)], [math.sin(angle), math.cos(angle)]]) @ nv \n",
    "    \n",
    "    l = list(mul) #converting rotated vector component numpy array to list\n",
    "    \n",
    "    anv.append(l) #Adding all rotated normal vectors to new blank list\n",
    "\n",
    "areq = []\n",
    "\n",
    "##Defining system of equations for all ray vectors:\n",
    "\n",
    "eq = sp.Function('eq')\n",
    "\n",
    "x, y = sp.symbols('x y')\n",
    "\n",
    "print('\\nEqutions of all the rays are:')\n",
    "\n",
    "for ij in anv:\n",
    "    \n",
    "    eq = Eq(ij[0] * (x - a0) + ij[1] * (y - b0), 0) #Point Normal form of equation of a line\n",
    "    \n",
    "    display(eq)\n",
    "    \n",
    "    areq.append(eq) #Add all equations to a list\n",
    "\n",
    "## First Incidence Calculations:\n",
    "\n",
    "tape = sp.Function('tape')\n",
    "\n",
    "roller = sp.Function('roller')\n",
    "\n",
    "tape = Eq((b2 - pq[1]) * (x - a2) + (pq[0] - a2) * (y - b2), 0)\n",
    "\n",
    "roller = Eq(x**2 + (y - k)**2 - k**2, 0)\n",
    "\n",
    "xieqn = set()\n",
    "\n",
    "beta = {}\n",
    "\n",
    "tid={}\n",
    "\n",
    "for eqn in areq:\n",
    "    \n",
    "    t = sp.solve([eqn, tape], [x, y])  # Solving rays and tape\n",
    "    \n",
    "    tt = list(dict.values(t))\n",
    "    \n",
    "    if tt[0] >= pq[0] and tt[1] > 0 and tt[0] < a2 and tt[1] < b2:\n",
    "        \n",
    "        al = {eqn:tt}\n",
    "        \n",
    "        tid.update(al)\n",
    "        \n",
    "    elif tt[0] < pq[0] and tt[1] > 0:\n",
    "        \n",
    "        z = sp.solve([eqn, roller], [x,y])  # Solving rays and roller\n",
    "        \n",
    "        alpha = {eqn:z}\n",
    "        \n",
    "        beta.update(alpha)  # Adding 'all' solutions to dictionary beta\n",
    "        \n",
    "    elif tt[1] < 0:\n",
    "        \n",
    "        xieqn.add(eqn)\n",
    "        \n",
    "    else:\n",
    "        \n",
    "            xieqn.add(eqn)\n",
    "            \n",
    "ri = []\n",
    "\n",
    "rieqn=set()\n",
    "\n",
    "rol={}\n",
    "            \n",
    "for i in beta:\n",
    "    \n",
    "    for j in beta[i]:\n",
    "        \n",
    "        if type(j[0]) is not sp.core.add.Add or type(j[1]) is not sp.core.add.Add: \n",
    "            #sp.core.add.Add is the data type of the complex coordinates obtained after solving rays and roller.   \n",
    "            \n",
    "            ri.append(j)\n",
    "            \n",
    "            #rieqn.add(i)\n",
    "            \n",
    "            ro = {i:''}\n",
    "            \n",
    "            rol.update(ro)\n",
    "            \n",
    "            #ro.append(ro)\n",
    "            \n",
    "        else:\n",
    "            \n",
    "            xieqn.add(i) #Appending equations with complex solutions to xieqn\n",
    "\n",
    "xieqn = list(xieqn)\n",
    "\n",
    "#Filtering required point of incidence on roller from real coordinates:\n",
    "\n",
    "s1 = []\n",
    "\n",
    "#print('ri is',ri)\n",
    "\n",
    "for s in ri:\n",
    "    \n",
    "    s1.append(s[0]) #Appending all x values in s1\n",
    "\n",
    "itx = iter(s1)\n",
    "\n",
    "s1m = []\n",
    "\n",
    "for x in itx:\n",
    "    \n",
    "    mx = max(x, next(itx)) #Comparing every 2 x coordinates and - \n",
    "    \n",
    "    s1m.append(mx) #-storing max in s1m\n",
    "\n",
    "s2 = []\n",
    "\n",
    "for s in ri: #Same for y coordinate\n",
    "    \n",
    "    s2.append(s[1])\n",
    "    \n",
    "ity = iter(s2)\n",
    "\n",
    "s2m = []\n",
    "\n",
    "for y in ity:\n",
    "    \n",
    "    my = max(y, next(ity))\n",
    "    \n",
    "    s2m.append(my)\n",
    "\n",
    "fss = [(x, y) for [x, y] in zip(s1m, s2m)]\n",
    "\n",
    "for key, value in zip(rol, fss):\n",
    "    \n",
    "    rol[key] = list(value)\n",
    "    \n",
    "print('Final rol:',rol)\n",
    "\n",
    "x, y = sp.symbols('x y')\n",
    "\n",
    "substrate = sp.Function('substrate')\n",
    "\n",
    "substrate = Eq(y, 0)\n",
    "\n",
    "sid={}\n",
    "\n",
    "for i in xieqn:\n",
    "    \n",
    "    s = sp.solve([i, substrate], [x, y])\n",
    "    \n",
    "    sl = list(dict.values(s))\n",
    "    \n",
    "    pa = {i:sl}\n",
    "    \n",
    "    sid.update(pa)\n",
    "    \n",
    "print('\\nSubstrate incidences:',sid.values())\n",
    "\n",
    "print('\\nTape incidences:',tid.values())\n",
    "\n",
    "print('\\nRoller incidences:',rol.values())\n",
    "display(tape)\n",
    "display(roller)"
   ]
  },
  {
   "cell_type": "code",
   "execution_count": 21,
   "metadata": {
    "scrolled": false
   },
   "outputs": [
    {
     "name": "stdout",
     "output_type": "stream",
     "text": [
      "\n",
      "First reflections; Incoming Tape to Substrate:\n",
      "\n",
      "First reflections; Roller to Substrate:\n",
      "\n",
      "First reflections; Substrate to Incoming Tape:\n"
     ]
    },
    {
     "data": {
      "text/plain": [
       "[39.0755725619964, 18.7053465657512]"
      ]
     },
     "metadata": {},
     "output_type": "display_data"
    },
    {
     "data": {
      "text/plain": [
       "[40.8359296418529, 20.6912881981359]"
      ]
     },
     "metadata": {},
     "output_type": "display_data"
    },
    {
     "data": {
      "text/plain": [
       "[42.6056775469185, 22.6878240622016]"
      ]
     },
     "metadata": {},
     "output_type": "display_data"
    },
    {
     "data": {
      "text/plain": [
       "[44.3871120086317, 24.6975440805796]"
      ]
     },
     "metadata": {},
     "output_type": "display_data"
    },
    {
     "name": "stdout",
     "output_type": "stream",
     "text": [
      "\n",
      "First reflections; Substrate to Roller:\n"
     ]
    },
    {
     "data": {
      "text/plain": [
       "[24.6414623078305, 6.49369775156971]"
      ]
     },
     "metadata": {},
     "output_type": "display_data"
    },
    {
     "data": {
      "text/plain": [
       "[37.3222149797558, 16.7276050004679]"
      ]
     },
     "metadata": {},
     "output_type": "display_data"
    },
    {
     "data": {
      "text/plain": [
       "[35.5180077098250, 14.8080814912740]"
      ]
     },
     "metadata": {},
     "output_type": "display_data"
    },
    {
     "data": {
      "text/plain": [
       "[21.9406351678957, 5.07107247630657]"
      ]
     },
     "metadata": {},
     "output_type": "display_data"
    },
    {
     "data": {
      "text/plain": [
       "[29.4329187409084, 9.58090433481864]"
      ]
     },
     "metadata": {},
     "output_type": "display_data"
    },
    {
     "data": {
      "text/plain": [
       "[15.6664149073115, 2.51775654045013]"
      ]
     },
     "metadata": {},
     "output_type": "display_data"
    },
    {
     "data": {
      "text/plain": [
       "[18.9734968986660, 3.73979663429579]"
      ]
     },
     "metadata": {},
     "output_type": "display_data"
    },
    {
     "data": {
      "text/plain": [
       "[33.6103710613930, 12.9818563793985]"
      ]
     },
     "metadata": {},
     "output_type": "display_data"
    },
    {
     "data": {
      "text/plain": [
       "[27.1267067631088, 7.99831217452913]"
      ]
     },
     "metadata": {},
     "output_type": "display_data"
    },
    {
     "data": {
      "text/plain": [
       "[11.9054175518367, 1.43807012775936]"
      ]
     },
     "metadata": {},
     "output_type": "display_data"
    },
    {
     "data": {
      "text/plain": [
       "[31.5872693946622, 11.2412021317864]"
      ]
     },
     "metadata": {},
     "output_type": "display_data"
    },
    {
     "name": "stdout",
     "output_type": "stream",
     "text": [
      "\n",
      "Second reflections; Incoming Tape to Substrate:\n"
     ]
    },
    {
     "data": {
      "text/plain": [
       "[63.9943078707002, 0.0]"
      ]
     },
     "metadata": {},
     "output_type": "display_data"
    },
    {
     "data": {
      "text/plain": [
       "[69.8812406804141, 0.0]"
      ]
     },
     "metadata": {},
     "output_type": "display_data"
    },
    {
     "data": {
      "text/plain": [
       "[76.1952963901437, 0.0]"
      ]
     },
     "metadata": {},
     "output_type": "display_data"
    },
    {
     "data": {
      "text/plain": [
       "[82.9934780577237, 0.0]"
      ]
     },
     "metadata": {},
     "output_type": "display_data"
    },
    {
     "name": "stdout",
     "output_type": "stream",
     "text": [
      "\n",
      "Second reflections; Roller to Substrate:\n"
     ]
    },
    {
     "data": {
      "text/plain": [
       "[25.2401730017084, 0.0]"
      ]
     },
     "metadata": {},
     "output_type": "display_data"
    },
    {
     "data": {
      "text/plain": [
       "[58.2407984555589, 0.0]"
      ]
     },
     "metadata": {},
     "output_type": "display_data"
    },
    {
     "data": {
      "text/plain": [
       "[49.7609739500771, 0.0]"
      ]
     },
     "metadata": {},
     "output_type": "display_data"
    },
    {
     "data": {
      "text/plain": [
       "[21.6608484847428, 0.0]"
      ]
     },
     "metadata": {},
     "output_type": "display_data"
    },
    {
     "data": {
      "text/plain": [
       "[33.1481733944786, 0.0]"
      ]
     },
     "metadata": {},
     "output_type": "display_data"
    },
    {
     "data": {
      "text/plain": [
       "[14.6720250033836, 0.0]"
      ]
     },
     "metadata": {},
     "output_type": "display_data"
    },
    {
     "data": {
      "text/plain": [
       "[18.1757708294585, 0.0]"
      ]
     },
     "metadata": {},
     "output_type": "display_data"
    },
    {
     "data": {
      "text/plain": [
       "[43.1827849274899, 0.0]"
      ]
     },
     "metadata": {},
     "output_type": "display_data"
    },
    {
     "data": {
      "text/plain": [
       "[29.0256083663020, 0.0]"
      ]
     },
     "metadata": {},
     "output_type": "display_data"
    },
    {
     "data": {
      "text/plain": [
       "[11.0085500778808, 0.0]"
      ]
     },
     "metadata": {},
     "output_type": "display_data"
    },
    {
     "data": {
      "text/plain": [
       "[37.7820054118002, 0.0]"
      ]
     },
     "metadata": {},
     "output_type": "display_data"
    },
    {
     "name": "stdout",
     "output_type": "stream",
     "text": [
      "\n",
      "Second reflections; Substrate to Incoming Tape:\n",
      "\n",
      "Second reflections; Substrate to Roller:\n",
      "\n",
      "Third reflections; Incoming Tape to Substrate:\n",
      "\n",
      "Third reflections; Roller to Substrate:\n",
      "\n",
      "Third reflections; Substrate to Incoming Tape:\n"
     ]
    },
    {
     "data": {
      "text/plain": [
       "[41.4329641142863, 21.3648308721433]"
      ]
     },
     "metadata": {},
     "output_type": "display_data"
    },
    {
     "data": {
      "text/plain": [
       "[145.534332096470, 138.806481222349]"
      ]
     },
     "metadata": {},
     "output_type": "display_data"
    },
    {
     "data": {
      "text/plain": [
       "[62.9039934838951, 45.5873091427090]"
      ]
     },
     "metadata": {},
     "output_type": "display_data"
    },
    {
     "name": "stdout",
     "output_type": "stream",
     "text": [
      "\n",
      "Third reflections; Substrate to Roller:\n"
     ]
    },
    {
     "data": {
      "text/plain": [
       "[33.2897437944076, 7.23536944887977]"
      ]
     },
     "metadata": {},
     "output_type": "display_data"
    },
    {
     "data": {
      "text/plain": [
       "[21.3955242369049, 4.80894399742338]"
      ]
     },
     "metadata": {},
     "output_type": "display_data"
    },
    {
     "data": {
      "text/plain": [
       "[13.8942547754774, 1.96928395043310]"
      ]
     },
     "metadata": {},
     "output_type": "display_data"
    },
    {
     "data": {
      "text/plain": [
       "[17.5010958280724, 3.16292446344856]"
      ]
     },
     "metadata": {},
     "output_type": "display_data"
    },
    {
     "data": {
      "text/plain": [
       "[45.7080349033247, 11.3499413431902]"
      ]
     },
     "metadata": {},
     "output_type": "display_data"
    },
    {
     "data": {
      "text/plain": [
       "[10.3351175462731, 1.07980636480760]"
      ]
     },
     "metadata": {},
     "output_type": "display_data"
    }
   ],
   "source": [
    "# 1st reflections\n",
    "import reflections\n",
    "from reflections import subs_ref_eqns, roller_ref_eqns, it_ref_eqns, to_subs, subs_to_rol_it\n",
    "\n",
    "subs1_ref = subs_ref_eqns(sid.values(), sid.keys())\n",
    "\n",
    "rol1_eqns = roller_ref_eqns(rol.values(), rol.keys(), k)\n",
    "\n",
    "it1_eqns = it_ref_eqns(tid.values(), tid.keys(), a2, b2, pq)\n",
    "\n",
    "it2subs1_soln = to_subs(it1_eqns) # Reflected from - function name\n",
    "print('\\nFirst reflections; Incoming Tape to Substrate:')\n",
    "for i in it2subs1_soln:\n",
    "    display(i)\n",
    "\n",
    "rol2subs1_soln = to_subs(rol1_eqns)\n",
    "print('\\nFirst reflections; Roller to Substrate:')\n",
    "for i in rol2subs1_soln:\n",
    "    display(i)\n",
    "    \n",
    "subs2it1_eqns, subs2it1_soln, subs2rol1_eqns, subs2rol1_soln = subs_to_rol_it(subs1_ref, a2, b2, pq, k)\n",
    "print('\\nFirst reflections; Substrate to Incoming Tape:')\n",
    "for i in subs2it1_soln:\n",
    "    display(i)\n",
    "print('\\nFirst reflections; Substrate to Roller:')\n",
    "for i in subs2rol1_soln:\n",
    "    display(i) \n",
    "\n",
    "# 2nd reflections\n",
    "all_subs1_coords = rol2subs1_soln + it2subs1_soln\n",
    "all_subs1_eqns = rol1_eqns + it1_eqns\n",
    "\n",
    "subs2_eqns = subs_ref_eqns(all_subs1_coords, all_subs1_eqns)\n",
    "\n",
    "rol2_eqns = roller_ref_eqns(subs2rol1_soln, subs2rol1_eqns, k)\n",
    "\n",
    "it2_eqns = it_ref_eqns(subs2it1_soln, subs2it1_eqns, a2, b2, pq)\n",
    "\n",
    "it2subs2_soln = to_subs(it2_eqns)\n",
    "print('\\nSecond reflections; Incoming Tape to Substrate:')\n",
    "for i in it2subs2_soln:\n",
    "    display(i)\n",
    "\n",
    "rol2subs2_soln = to_subs(rol2_eqns)\n",
    "print('\\nSecond reflections; Roller to Substrate:')\n",
    "for i in rol2subs2_soln:\n",
    "    display(i)\n",
    "    \n",
    "subs2it2_eqns, subs2it2_soln, subs2rol2_eqns, subs2rol2_soln = subs_to_rol_it(subs2_eqns, a2, b2, pq, k)\n",
    "print('\\nSecond reflections; Substrate to Incoming Tape:')\n",
    "for i in subs2it2_soln:\n",
    "    display(i)\n",
    "print('\\nSecond reflections; Substrate to Roller:')\n",
    "for i in subs2rol2_soln:\n",
    "    display(i)\n",
    "    \n",
    "#3rd reflections\n",
    "all_subs2_coords = rol2subs2_soln + it2subs2_soln\n",
    "all_subs2_eqns = rol2_eqns + it2_eqns\n",
    "\n",
    "subs3_ref = subs_ref_eqns(all_subs2_coords, all_subs2_eqns)\n",
    "\n",
    "rol3_eqns = roller_ref_eqns(subs2rol2_soln, subs2rol2_eqns, k)\n",
    "\n",
    "it3_eqns = it_ref_eqns(subs2it2_soln, subs2it2_eqns, a2, b2, pq)\n",
    "\n",
    "it2subs3_soln = to_subs(it3_eqns)\n",
    "print('\\nThird reflections; Incoming Tape to Substrate:')\n",
    "for i in it2subs3_soln:\n",
    "    display(i)\n",
    "\n",
    "rol2subs3_soln = to_subs(rol3_eqns)\n",
    "print('\\nThird reflections; Roller to Substrate:')\n",
    "for i in rol2subs3_soln:\n",
    "    display(i)\n",
    "    \n",
    "subs2it3_eqns, subs2it3_soln, subs2rol3_eqns, subs2rol3_soln = subs_to_rol_it(subs3_ref, a2, b2, pq, k)\n",
    "print('\\nThird reflections; Substrate to Incoming Tape:')\n",
    "for i in subs2it3_soln:\n",
    "    display(i)\n",
    "print('\\nThird reflections; Substrate to Roller:')\n",
    "for i in subs2rol3_soln:\n",
    "    display(i)"
   ]
  },
  {
   "cell_type": "code",
   "execution_count": 22,
   "metadata": {
    "scrolled": false
   },
   "outputs": [
    {
     "name": "stdout",
     "output_type": "stream",
     "text": [
      "Contact length of Roller and Incoming Tape is: 42.2770428599861\n"
     ]
    }
   ],
   "source": [
    "## THERMAL MODEL INPUTS\n",
    "\n",
    "import thermal_model\n",
    "from thermal_model import calc_subs_heat_flux, calc_it_heat_flux, calc_roller_heat_flux, export_heat_flux\n",
    "import pandas as pd\n",
    "\n",
    "# Contact length of Roller and Incoming-Tape:\n",
    "c = [0, -k]\n",
    "c = np.array(c, dtype = np.float64)\n",
    "\n",
    "d = [pq[0], pq[1] - k]\n",
    "d = np.array(d, dtype = np.float64)\n",
    "\n",
    "l33 = np.dot(c,d)\n",
    "\n",
    "mod_c = np.linalg.norm(c)\n",
    "\n",
    "mod_d = np.linalg.norm(d)\n",
    "\n",
    "arc_angle = sp.acos(l33/(mod_c * mod_d))\n",
    "\n",
    "arc_length = k * arc_angle\n",
    "\n",
    "print('Contact length of Roller and Incoming Tape is:',arc_length)\n",
    "\n",
    "# Length of Shadow Regions:\n",
    "# Substrate:\n",
    "\n",
    "# subs_x = list()\n",
    "# for i in rol2subs3_soln:\n",
    "#     subs_x.append(i[0])\n",
    "\n",
    "# subs_shadow_point = min(subs_x)\n",
    "\n",
    "# subs_shadow_length = subs_shadow_point\n",
    "\n",
    "subs_x0 = list()\n",
    "for i in sid.values():\n",
    "    subs_x0.append(i[0])\n",
    "\n",
    "rol2subs_x1 = list()\n",
    "for i in rol2subs1_soln:\n",
    "    rol2subs_x1.append(i[0])\n",
    "\n",
    "it2subs_x1 = list()\n",
    "for i in it2subs1_soln:\n",
    "    it2subs_x1.append(i[0])\n",
    "    \n",
    "if not subs_x0 + rol2subs_x1 + it2subs_x1:\n",
    "    print('No Clear Hits on Substrate')\n",
    "else:\n",
    "    subs_shadow_point = min(subs_x0 + rol2subs_x1 + it2subs_x1)\n",
    "    subs_shadow_length = subs_shadow_point\n",
    "    \n",
    "# Roller:\n",
    "\n",
    "roller_x = list()\n",
    "roller_y = list()\n",
    "for i in rol.values():\n",
    "    roller_x.append(i[0])\n",
    "    roller_y.append(i[1])\n",
    "\n",
    "subs2rol1_x = list()\n",
    "subs2rol1_y = list()\n",
    "for i in subs2rol1_soln:\n",
    "    subs2rol1_x.append(i[0])\n",
    "    subs2rol1_y.append(i[1])\n",
    "    \n",
    "if not roller_x + subs2rol1_x and not roller_y + subs2rol1_y:\n",
    "    roller_shadow_length = ''\n",
    "    print('No clear hits on Roller')\n",
    "else:\n",
    "    roller_shadow_x = min(roller_x + subs2rol1_x)\n",
    "    roller_shadow_y = min(roller_y + subs2rol1_y)\n",
    "    roller_shadow_point = (roller_shadow_x, roller_shadow_y)\n",
    "    e = [0, -k]\n",
    "    e = np.array(e, dtype = np.float64)\n",
    "    \n",
    "    f = [roller_shadow_point[0], roller_shadow_point[1] - k]\n",
    "    f = np.array(f, dtype = np.float64)\n",
    "    \n",
    "    l34 = np.dot(e,f)\n",
    "\n",
    "    mod_e = np.linalg.norm(e)\n",
    "    mod_f = np.linalg.norm(f)\n",
    "\n",
    "    shadow_arc_angle = sp.acos(l34/(mod_e * mod_f))\n",
    "\n",
    "    roller_shadow_length = k * shadow_arc_angle\n",
    "\n",
    "\n",
    "# Data Export (Length of Shadow Regions and Contact Length):\n",
    "\n",
    "with open('Parameters.txt', 'w') as f:\n",
    "    print('subs_shadow_length',f'\"{subs_shadow_length} [mm]\"', '\"Length of Shadow Region on Substrate\"', file = f)\n",
    "    print('\\nroller_shadow_length',f'\"{roller_shadow_length} [mm]\"', '\"Length of Shadow Region on Roller\"', file = f)\n",
    "    print('\\narc_length',f'\"{arc_length} [mm]\"','\"Contact Length of Incoming Tape on Roller\"', file = f)\n",
    "\n",
    "\n",
    "## Heat Flux:\n",
    "\n",
    "# incidence: Substrate\n",
    "subs0 = list(sid.values())\n",
    "cd0_subs, subs0_x1, subs0_x2 = calc_subs_heat_flux(1, 120, subs0, n) #(element size, final value, compound list of solution-coordinates)\n",
    "\n",
    "# incidence: Incoming Tape:\n",
    "it0 = list(tid.values())\n",
    "cd0_it, it0_x1, it0_y1, it0_x2, it0_y2 = calc_it_heat_flux(1, it0, a2, b2, pq, n) #(Element length, compound list of solution-coordinates)\n",
    "\n",
    "# incidence: Roller\n",
    "rol0 = list(rol.values())\n",
    "cd0_rol, rol0_x1, rol0_y1, rol0_x2, rol0_y2 = calc_roller_heat_flux(1, rol0, k, arc_length, arc_angle, n) ##(Element length, compound list of solution-coordinates)\n",
    "\n",
    "# 1st reflection: Incoming Tape to Substrate\n",
    "cd1_it2subs, it2subs1_x1, it2subs1_x2 = calc_subs_heat_flux(1, 120 , it2subs1_soln, n)\n",
    "\n",
    "# 1st reflction: Roller to Substrate\n",
    "cd1_rol2subs, rol2subs1_x1, rol2subs1_x2 = calc_subs_heat_flux(1, 120, rol2subs1_soln, n)\n",
    "\n",
    "# 1st reflection: Incoming Tape\n",
    "cd1_it, it1_x1, it1_y1, it1_x2, it1_y2 = calc_it_heat_flux(1, subs2it1_soln, a2, b2, pq, n)\n",
    "\n",
    "# 1st reflection: Roller\n",
    "cd1_rol, rol1_x1, rol1_y1, rol1_x2, rol1_y2 = calc_roller_heat_flux(1, subs2rol1_soln, k, arc_length, arc_angle, n)\n",
    "\n",
    "# # 2nd reflection: Incoming Tape to Substrate\n",
    "# cd2_it2subs, it2subs2_x1, it2subs2_x2 = calc_subs_heat_flux(1, 5, it2subs2_soln, n)\n",
    "\n",
    "# # 2nd reflection: Roller to Substrate\n",
    "# cd2_rol2subs, rol2subs2_x1, rol2subs2_x2 = calc_subs_heat_flux(1, 5, rol2subs2_soln, n)\n",
    "\n",
    "# # 2nd reflection: Incoming Tape\n",
    "# cd2_it, it2_x1, it2_y1, it2_x2, it2_y2 = calc_it_heat_flux(1, subs2it2_soln, a2, b2, pq, n)\n",
    "\n",
    "# # 2nd reflection: Roller\n",
    "# cd2_rol, rol2_x1, rol2_y1, rol2_x2, rol2_y2 = calc_roller_heat_flux(1, subs2rol2_soln, k, arc_length, arc_angle, n)\n",
    "\n",
    "# # 3rd reflection: Incoming Tape to Substrate\n",
    "# cd3_it2subs, it2subs3_x1, it2subs3_x2 = calc_subs_heat_flux(1, 5, it2subs3_soln, n)\n",
    "\n",
    "# # 3rd reflection: Roller to Substrate\n",
    "# cd3_rol2subs, rol2subs3_x1, rol2subs3_x2 = calc_subs_heat_flux(1, 5, rol2subs3_soln, n)\n",
    "\n",
    "# # 3rd reflection: Incoming Tape\n",
    "# cd3_it, it3_x1, it3_y1, it3_x2, it3_y2 = calc_it_heat_flux(1, subs2it3_soln, a2, b2, pq, n)\n",
    "\n",
    "# # 3rd reflection: Roller\n",
    "# cd3_rol, rol3_x1, rol3_y1, rol3_x2, rol3_y2 = calc_roller_heat_flux(1, subs2rol3_soln, k, arc_length, arc_angle, n)\n",
    "\n",
    "\n",
    "# Data Export (Heat Flux):\n",
    "\n",
    "# Incidence: Substrate\n",
    "df_subs0 = pd.DataFrame()\n",
    "export_heat_flux(df_subs0, subs0_x1, 0, subs0_x2, 0, cd0_subs, 'Substrate_Incidence.csv')\n",
    "\n",
    "# Incidence: Incoming Tape\n",
    "df_it0 = pd.DataFrame()\n",
    "export_heat_flux(df_it0, it0_x1, it0_y1, it0_x2, it0_y2, cd0_it, 'Incoming_Tape_Incidence.csv')\n",
    "\n",
    "# Incidence: Roller\n",
    "df_rol0 = pd.DataFrame()\n",
    "export_heat_flux(df_rol0, rol0_x1, rol0_y1, rol0_x2, rol0_y2, cd0_rol, 'Roller_Incidence.csv')\n",
    "\n",
    "# 1st Reflection: Incoming Tape to Substrate\n",
    "df_it2subs1 = pd.DataFrame()\n",
    "export_heat_flux(df_it2subs1, it2subs1_x1, 0, it2subs1_x2, 0, cd1_it2subs, 'Incoming_Tape_to_Substrate_1st_Reflection.csv')\n",
    "\n",
    "# 1st Reflection: Roller to Substrate\n",
    "df_rol2subs1 = pd.DataFrame()\n",
    "export_heat_flux(df_rol2subs1, rol2subs1_x1, 0, rol2subs1_x2, 0, cd1_rol2subs, 'Roller_to_Substrate_1st_Reflection.csv')\n",
    "\n",
    "# 1st Reflection: Incoming Tape\n",
    "df_it1 = pd.DataFrame()\n",
    "export_heat_flux(df_it1, it1_x1, it1_y1, it1_x2, it1_y2, cd1_it, 'Incoming_Tape_1st_Reflection.csv')\n",
    "\n",
    "# 1st Reflection: Roller\n",
    "df_rol1 = pd.DataFrame()\n",
    "export_heat_flux(df_rol1, rol1_x1, rol1_y1, rol1_x2, rol1_y2, cd1_rol, 'Roller_1st_Reflection.csv')\n",
    "\n",
    "# # 2nd Reflection: Incoming Tape to Substrate\n",
    "# df_it2subs2 = pd.DataFrame()\n",
    "# export_heat_flux(df_it2subs2, it2subs2_x1, 0, it2subs2_x2, 0, cd2_it2subs, 'Incoming_Tape_to_Substrate_2nd_Reflection.csv')\n",
    "\n",
    "# # 2nd Reflection: Roller to Substrate\n",
    "# df_rol2subs2 = pd.DataFrame()\n",
    "# export_heat_flux(df_rol2subs2, rol2subs2_x1, 0, rol2subs2_x2, 0, cd2_rol2subs, 'Roller_to_Substrate_2nd_Reflection.csv')\n",
    "\n",
    "# # 2nd Reflection: Incoming Tape\n",
    "# df_it2 = pd.DataFrame()\n",
    "# export_heat_flux(df_it2, it2_x1, it2_y1, it2_x2, it2_y2, cd2_it, 'Incoming_Tape_2nd_Reflection.csv')\n",
    " \n",
    "# # 2nd Reflection: Roller\n",
    "# df_rol2 = pd.DataFrame()\n",
    "# export_heat_flux(df_rol2, rol2_x1, rol2_y1, rol2_x2, rol2_y2, cd2_rol, 'Roller_2nd_Reflection.csv')\n",
    "\n",
    "# # 3rd Reflection: Incoming Tape to Substrate\n",
    "# df_it2subs3 = pd.DataFrame()\n",
    "# export_heat_flux(df_it2subs3, it2subs3_x1, 0, it2subs3_x2, 0, cd3_it2subs, 'Incoming_Tape_to_Substrate_3rd_Reflection.csv')\n",
    "\n",
    "# # 3rd Reflection: Roller to Substrate\n",
    "# df_rol2subs3 = pd.DataFrame()\n",
    "# export_heat_flux(df_rol2subs3, rol2subs3_x1, 0, rol2subs3_x2, 0, cd3_rol2subs, 'Roller_to_Substrate_3rd_Reflection.csv')\n",
    "\n",
    "# # 3rd Reflection: Incoming Tape\n",
    "# df_it3 = pd.DataFrame()\n",
    "# export_heat_flux(df_it3, it3_x1, it3_y1, it3_x2, it3_y2, cd3_it, 'Incoming_Tape_3rd_Reflection.csv')\n",
    "\n",
    "# # 3rd Reflection: Roller\n",
    "# df_rol3 = pd.DataFrame()\n",
    "# export_heat_flux(df_rol3, rol3_x1, rol3_y1, rol3_x2, rol3_y2, cd3_rol, 'Roller_3rd_Reflection.csv')\n",
    "\n",
    "# df_subs0 = pd.DataFrame({\n",
    "#             'X1': subs0_x1,\n",
    "#             'Y1': 0,\n",
    "#             'X2': subs0_x2,\n",
    "#             'Y2': 0,\n",
    "#             'Heat Flux': cd0_subs\n",
    "#         })\n",
    "# writer = pd.ExcelWriter('Substrate_Incidence.xlsx', engine = 'xlsxwriter')\n",
    "# df_subs0.to_excel(writer, sheet_name='Substrate Incidence')\n",
    "# writer.save()\n",
    "\n",
    "# Incoming Tape (Incidence)\n",
    "# df_it0 = pd.DataFrame({\n",
    "#     'X1': it0_x1,\n",
    "#     'Y1': it0_y1,\n",
    "#     'X2': it0_x2,\n",
    "#     'Y2': it0_y2,\n",
    "#     'Heat Flux': cd0_it\n",
    "# })\n",
    "# writer = pd.ExcelWriter('Incoming_Tape_Incidence.xlsx', engine = 'xlsxwriter')\n",
    "# df_it0.to_excel(writer, sheet_name = 'Incoming Tape Incidence')\n",
    "# writer.save()"
   ]
  },
  {
   "cell_type": "code",
   "execution_count": 23,
   "metadata": {
    "scrolled": false
   },
   "outputs": [
    {
     "data": {
      "application/javascript": [
       "/* Put everything inside the global mpl namespace */\n",
       "/* global mpl */\n",
       "window.mpl = {};\n",
       "\n",
       "mpl.get_websocket_type = function () {\n",
       "    if (typeof WebSocket !== 'undefined') {\n",
       "        return WebSocket;\n",
       "    } else if (typeof MozWebSocket !== 'undefined') {\n",
       "        return MozWebSocket;\n",
       "    } else {\n",
       "        alert(\n",
       "            'Your browser does not have WebSocket support. ' +\n",
       "                'Please try Chrome, Safari or Firefox ≥ 6. ' +\n",
       "                'Firefox 4 and 5 are also supported but you ' +\n",
       "                'have to enable WebSockets in about:config.'\n",
       "        );\n",
       "    }\n",
       "};\n",
       "\n",
       "mpl.figure = function (figure_id, websocket, ondownload, parent_element) {\n",
       "    this.id = figure_id;\n",
       "\n",
       "    this.ws = websocket;\n",
       "\n",
       "    this.supports_binary = this.ws.binaryType !== undefined;\n",
       "\n",
       "    if (!this.supports_binary) {\n",
       "        var warnings = document.getElementById('mpl-warnings');\n",
       "        if (warnings) {\n",
       "            warnings.style.display = 'block';\n",
       "            warnings.textContent =\n",
       "                'This browser does not support binary websocket messages. ' +\n",
       "                'Performance may be slow.';\n",
       "        }\n",
       "    }\n",
       "\n",
       "    this.imageObj = new Image();\n",
       "\n",
       "    this.context = undefined;\n",
       "    this.message = undefined;\n",
       "    this.canvas = undefined;\n",
       "    this.rubberband_canvas = undefined;\n",
       "    this.rubberband_context = undefined;\n",
       "    this.format_dropdown = undefined;\n",
       "\n",
       "    this.image_mode = 'full';\n",
       "\n",
       "    this.root = document.createElement('div');\n",
       "    this.root.setAttribute('style', 'display: inline-block');\n",
       "    this._root_extra_style(this.root);\n",
       "\n",
       "    parent_element.appendChild(this.root);\n",
       "\n",
       "    this._init_header(this);\n",
       "    this._init_canvas(this);\n",
       "    this._init_toolbar(this);\n",
       "\n",
       "    var fig = this;\n",
       "\n",
       "    this.waiting = false;\n",
       "\n",
       "    this.ws.onopen = function () {\n",
       "        fig.send_message('supports_binary', { value: fig.supports_binary });\n",
       "        fig.send_message('send_image_mode', {});\n",
       "        if (fig.ratio !== 1) {\n",
       "            fig.send_message('set_dpi_ratio', { dpi_ratio: fig.ratio });\n",
       "        }\n",
       "        fig.send_message('refresh', {});\n",
       "    };\n",
       "\n",
       "    this.imageObj.onload = function () {\n",
       "        if (fig.image_mode === 'full') {\n",
       "            // Full images could contain transparency (where diff images\n",
       "            // almost always do), so we need to clear the canvas so that\n",
       "            // there is no ghosting.\n",
       "            fig.context.clearRect(0, 0, fig.canvas.width, fig.canvas.height);\n",
       "        }\n",
       "        fig.context.drawImage(fig.imageObj, 0, 0);\n",
       "    };\n",
       "\n",
       "    this.imageObj.onunload = function () {\n",
       "        fig.ws.close();\n",
       "    };\n",
       "\n",
       "    this.ws.onmessage = this._make_on_message_function(this);\n",
       "\n",
       "    this.ondownload = ondownload;\n",
       "};\n",
       "\n",
       "mpl.figure.prototype._init_header = function () {\n",
       "    var titlebar = document.createElement('div');\n",
       "    titlebar.classList =\n",
       "        'ui-dialog-titlebar ui-widget-header ui-corner-all ui-helper-clearfix';\n",
       "    var titletext = document.createElement('div');\n",
       "    titletext.classList = 'ui-dialog-title';\n",
       "    titletext.setAttribute(\n",
       "        'style',\n",
       "        'width: 100%; text-align: center; padding: 3px;'\n",
       "    );\n",
       "    titlebar.appendChild(titletext);\n",
       "    this.root.appendChild(titlebar);\n",
       "    this.header = titletext;\n",
       "};\n",
       "\n",
       "mpl.figure.prototype._canvas_extra_style = function (_canvas_div) {};\n",
       "\n",
       "mpl.figure.prototype._root_extra_style = function (_canvas_div) {};\n",
       "\n",
       "mpl.figure.prototype._init_canvas = function () {\n",
       "    var fig = this;\n",
       "\n",
       "    var canvas_div = (this.canvas_div = document.createElement('div'));\n",
       "    canvas_div.setAttribute(\n",
       "        'style',\n",
       "        'border: 1px solid #ddd;' +\n",
       "            'box-sizing: content-box;' +\n",
       "            'clear: both;' +\n",
       "            'min-height: 1px;' +\n",
       "            'min-width: 1px;' +\n",
       "            'outline: 0;' +\n",
       "            'overflow: hidden;' +\n",
       "            'position: relative;' +\n",
       "            'resize: both;'\n",
       "    );\n",
       "\n",
       "    function on_keyboard_event_closure(name) {\n",
       "        return function (event) {\n",
       "            return fig.key_event(event, name);\n",
       "        };\n",
       "    }\n",
       "\n",
       "    canvas_div.addEventListener(\n",
       "        'keydown',\n",
       "        on_keyboard_event_closure('key_press')\n",
       "    );\n",
       "    canvas_div.addEventListener(\n",
       "        'keyup',\n",
       "        on_keyboard_event_closure('key_release')\n",
       "    );\n",
       "\n",
       "    this._canvas_extra_style(canvas_div);\n",
       "    this.root.appendChild(canvas_div);\n",
       "\n",
       "    var canvas = (this.canvas = document.createElement('canvas'));\n",
       "    canvas.classList.add('mpl-canvas');\n",
       "    canvas.setAttribute('style', 'box-sizing: content-box;');\n",
       "\n",
       "    this.context = canvas.getContext('2d');\n",
       "\n",
       "    var backingStore =\n",
       "        this.context.backingStorePixelRatio ||\n",
       "        this.context.webkitBackingStorePixelRatio ||\n",
       "        this.context.mozBackingStorePixelRatio ||\n",
       "        this.context.msBackingStorePixelRatio ||\n",
       "        this.context.oBackingStorePixelRatio ||\n",
       "        this.context.backingStorePixelRatio ||\n",
       "        1;\n",
       "\n",
       "    this.ratio = (window.devicePixelRatio || 1) / backingStore;\n",
       "    if (this.ratio !== 1) {\n",
       "        fig.send_message('set_dpi_ratio', { dpi_ratio: this.ratio });\n",
       "    }\n",
       "\n",
       "    var rubberband_canvas = (this.rubberband_canvas = document.createElement(\n",
       "        'canvas'\n",
       "    ));\n",
       "    rubberband_canvas.setAttribute(\n",
       "        'style',\n",
       "        'box-sizing: content-box; position: absolute; left: 0; top: 0; z-index: 1;'\n",
       "    );\n",
       "\n",
       "    var resizeObserver = new ResizeObserver(function (entries) {\n",
       "        var nentries = entries.length;\n",
       "        for (var i = 0; i < nentries; i++) {\n",
       "            var entry = entries[i];\n",
       "            var width, height;\n",
       "            if (entry.contentBoxSize) {\n",
       "                if (entry.contentBoxSize instanceof Array) {\n",
       "                    // Chrome 84 implements new version of spec.\n",
       "                    width = entry.contentBoxSize[0].inlineSize;\n",
       "                    height = entry.contentBoxSize[0].blockSize;\n",
       "                } else {\n",
       "                    // Firefox implements old version of spec.\n",
       "                    width = entry.contentBoxSize.inlineSize;\n",
       "                    height = entry.contentBoxSize.blockSize;\n",
       "                }\n",
       "            } else {\n",
       "                // Chrome <84 implements even older version of spec.\n",
       "                width = entry.contentRect.width;\n",
       "                height = entry.contentRect.height;\n",
       "            }\n",
       "\n",
       "            // Keep the size of the canvas and rubber band canvas in sync with\n",
       "            // the canvas container.\n",
       "            if (entry.devicePixelContentBoxSize) {\n",
       "                // Chrome 84 implements new version of spec.\n",
       "                canvas.setAttribute(\n",
       "                    'width',\n",
       "                    entry.devicePixelContentBoxSize[0].inlineSize\n",
       "                );\n",
       "                canvas.setAttribute(\n",
       "                    'height',\n",
       "                    entry.devicePixelContentBoxSize[0].blockSize\n",
       "                );\n",
       "            } else {\n",
       "                canvas.setAttribute('width', width * fig.ratio);\n",
       "                canvas.setAttribute('height', height * fig.ratio);\n",
       "            }\n",
       "            canvas.setAttribute(\n",
       "                'style',\n",
       "                'width: ' + width + 'px; height: ' + height + 'px;'\n",
       "            );\n",
       "\n",
       "            rubberband_canvas.setAttribute('width', width);\n",
       "            rubberband_canvas.setAttribute('height', height);\n",
       "\n",
       "            // And update the size in Python. We ignore the initial 0/0 size\n",
       "            // that occurs as the element is placed into the DOM, which should\n",
       "            // otherwise not happen due to the minimum size styling.\n",
       "            if (width != 0 && height != 0) {\n",
       "                fig.request_resize(width, height);\n",
       "            }\n",
       "        }\n",
       "    });\n",
       "    resizeObserver.observe(canvas_div);\n",
       "\n",
       "    function on_mouse_event_closure(name) {\n",
       "        return function (event) {\n",
       "            return fig.mouse_event(event, name);\n",
       "        };\n",
       "    }\n",
       "\n",
       "    rubberband_canvas.addEventListener(\n",
       "        'mousedown',\n",
       "        on_mouse_event_closure('button_press')\n",
       "    );\n",
       "    rubberband_canvas.addEventListener(\n",
       "        'mouseup',\n",
       "        on_mouse_event_closure('button_release')\n",
       "    );\n",
       "    // Throttle sequential mouse events to 1 every 20ms.\n",
       "    rubberband_canvas.addEventListener(\n",
       "        'mousemove',\n",
       "        on_mouse_event_closure('motion_notify')\n",
       "    );\n",
       "\n",
       "    rubberband_canvas.addEventListener(\n",
       "        'mouseenter',\n",
       "        on_mouse_event_closure('figure_enter')\n",
       "    );\n",
       "    rubberband_canvas.addEventListener(\n",
       "        'mouseleave',\n",
       "        on_mouse_event_closure('figure_leave')\n",
       "    );\n",
       "\n",
       "    canvas_div.addEventListener('wheel', function (event) {\n",
       "        if (event.deltaY < 0) {\n",
       "            event.step = 1;\n",
       "        } else {\n",
       "            event.step = -1;\n",
       "        }\n",
       "        on_mouse_event_closure('scroll')(event);\n",
       "    });\n",
       "\n",
       "    canvas_div.appendChild(canvas);\n",
       "    canvas_div.appendChild(rubberband_canvas);\n",
       "\n",
       "    this.rubberband_context = rubberband_canvas.getContext('2d');\n",
       "    this.rubberband_context.strokeStyle = '#000000';\n",
       "\n",
       "    this._resize_canvas = function (width, height, forward) {\n",
       "        if (forward) {\n",
       "            canvas_div.style.width = width + 'px';\n",
       "            canvas_div.style.height = height + 'px';\n",
       "        }\n",
       "    };\n",
       "\n",
       "    // Disable right mouse context menu.\n",
       "    this.rubberband_canvas.addEventListener('contextmenu', function (_e) {\n",
       "        event.preventDefault();\n",
       "        return false;\n",
       "    });\n",
       "\n",
       "    function set_focus() {\n",
       "        canvas.focus();\n",
       "        canvas_div.focus();\n",
       "    }\n",
       "\n",
       "    window.setTimeout(set_focus, 100);\n",
       "};\n",
       "\n",
       "mpl.figure.prototype._init_toolbar = function () {\n",
       "    var fig = this;\n",
       "\n",
       "    var toolbar = document.createElement('div');\n",
       "    toolbar.classList = 'mpl-toolbar';\n",
       "    this.root.appendChild(toolbar);\n",
       "\n",
       "    function on_click_closure(name) {\n",
       "        return function (_event) {\n",
       "            return fig.toolbar_button_onclick(name);\n",
       "        };\n",
       "    }\n",
       "\n",
       "    function on_mouseover_closure(tooltip) {\n",
       "        return function (event) {\n",
       "            if (!event.currentTarget.disabled) {\n",
       "                return fig.toolbar_button_onmouseover(tooltip);\n",
       "            }\n",
       "        };\n",
       "    }\n",
       "\n",
       "    fig.buttons = {};\n",
       "    var buttonGroup = document.createElement('div');\n",
       "    buttonGroup.classList = 'mpl-button-group';\n",
       "    for (var toolbar_ind in mpl.toolbar_items) {\n",
       "        var name = mpl.toolbar_items[toolbar_ind][0];\n",
       "        var tooltip = mpl.toolbar_items[toolbar_ind][1];\n",
       "        var image = mpl.toolbar_items[toolbar_ind][2];\n",
       "        var method_name = mpl.toolbar_items[toolbar_ind][3];\n",
       "\n",
       "        if (!name) {\n",
       "            /* Instead of a spacer, we start a new button group. */\n",
       "            if (buttonGroup.hasChildNodes()) {\n",
       "                toolbar.appendChild(buttonGroup);\n",
       "            }\n",
       "            buttonGroup = document.createElement('div');\n",
       "            buttonGroup.classList = 'mpl-button-group';\n",
       "            continue;\n",
       "        }\n",
       "\n",
       "        var button = (fig.buttons[name] = document.createElement('button'));\n",
       "        button.classList = 'mpl-widget';\n",
       "        button.setAttribute('role', 'button');\n",
       "        button.setAttribute('aria-disabled', 'false');\n",
       "        button.addEventListener('click', on_click_closure(method_name));\n",
       "        button.addEventListener('mouseover', on_mouseover_closure(tooltip));\n",
       "\n",
       "        var icon_img = document.createElement('img');\n",
       "        icon_img.src = '_images/' + image + '.png';\n",
       "        icon_img.srcset = '_images/' + image + '_large.png 2x';\n",
       "        icon_img.alt = tooltip;\n",
       "        button.appendChild(icon_img);\n",
       "\n",
       "        buttonGroup.appendChild(button);\n",
       "    }\n",
       "\n",
       "    if (buttonGroup.hasChildNodes()) {\n",
       "        toolbar.appendChild(buttonGroup);\n",
       "    }\n",
       "\n",
       "    var fmt_picker = document.createElement('select');\n",
       "    fmt_picker.classList = 'mpl-widget';\n",
       "    toolbar.appendChild(fmt_picker);\n",
       "    this.format_dropdown = fmt_picker;\n",
       "\n",
       "    for (var ind in mpl.extensions) {\n",
       "        var fmt = mpl.extensions[ind];\n",
       "        var option = document.createElement('option');\n",
       "        option.selected = fmt === mpl.default_extension;\n",
       "        option.innerHTML = fmt;\n",
       "        fmt_picker.appendChild(option);\n",
       "    }\n",
       "\n",
       "    var status_bar = document.createElement('span');\n",
       "    status_bar.classList = 'mpl-message';\n",
       "    toolbar.appendChild(status_bar);\n",
       "    this.message = status_bar;\n",
       "};\n",
       "\n",
       "mpl.figure.prototype.request_resize = function (x_pixels, y_pixels) {\n",
       "    // Request matplotlib to resize the figure. Matplotlib will then trigger a resize in the client,\n",
       "    // which will in turn request a refresh of the image.\n",
       "    this.send_message('resize', { width: x_pixels, height: y_pixels });\n",
       "};\n",
       "\n",
       "mpl.figure.prototype.send_message = function (type, properties) {\n",
       "    properties['type'] = type;\n",
       "    properties['figure_id'] = this.id;\n",
       "    this.ws.send(JSON.stringify(properties));\n",
       "};\n",
       "\n",
       "mpl.figure.prototype.send_draw_message = function () {\n",
       "    if (!this.waiting) {\n",
       "        this.waiting = true;\n",
       "        this.ws.send(JSON.stringify({ type: 'draw', figure_id: this.id }));\n",
       "    }\n",
       "};\n",
       "\n",
       "mpl.figure.prototype.handle_save = function (fig, _msg) {\n",
       "    var format_dropdown = fig.format_dropdown;\n",
       "    var format = format_dropdown.options[format_dropdown.selectedIndex].value;\n",
       "    fig.ondownload(fig, format);\n",
       "};\n",
       "\n",
       "mpl.figure.prototype.handle_resize = function (fig, msg) {\n",
       "    var size = msg['size'];\n",
       "    if (size[0] !== fig.canvas.width || size[1] !== fig.canvas.height) {\n",
       "        fig._resize_canvas(size[0], size[1], msg['forward']);\n",
       "        fig.send_message('refresh', {});\n",
       "    }\n",
       "};\n",
       "\n",
       "mpl.figure.prototype.handle_rubberband = function (fig, msg) {\n",
       "    var x0 = msg['x0'] / fig.ratio;\n",
       "    var y0 = (fig.canvas.height - msg['y0']) / fig.ratio;\n",
       "    var x1 = msg['x1'] / fig.ratio;\n",
       "    var y1 = (fig.canvas.height - msg['y1']) / fig.ratio;\n",
       "    x0 = Math.floor(x0) + 0.5;\n",
       "    y0 = Math.floor(y0) + 0.5;\n",
       "    x1 = Math.floor(x1) + 0.5;\n",
       "    y1 = Math.floor(y1) + 0.5;\n",
       "    var min_x = Math.min(x0, x1);\n",
       "    var min_y = Math.min(y0, y1);\n",
       "    var width = Math.abs(x1 - x0);\n",
       "    var height = Math.abs(y1 - y0);\n",
       "\n",
       "    fig.rubberband_context.clearRect(\n",
       "        0,\n",
       "        0,\n",
       "        fig.canvas.width / fig.ratio,\n",
       "        fig.canvas.height / fig.ratio\n",
       "    );\n",
       "\n",
       "    fig.rubberband_context.strokeRect(min_x, min_y, width, height);\n",
       "};\n",
       "\n",
       "mpl.figure.prototype.handle_figure_label = function (fig, msg) {\n",
       "    // Updates the figure title.\n",
       "    fig.header.textContent = msg['label'];\n",
       "};\n",
       "\n",
       "mpl.figure.prototype.handle_cursor = function (fig, msg) {\n",
       "    var cursor = msg['cursor'];\n",
       "    switch (cursor) {\n",
       "        case 0:\n",
       "            cursor = 'pointer';\n",
       "            break;\n",
       "        case 1:\n",
       "            cursor = 'default';\n",
       "            break;\n",
       "        case 2:\n",
       "            cursor = 'crosshair';\n",
       "            break;\n",
       "        case 3:\n",
       "            cursor = 'move';\n",
       "            break;\n",
       "    }\n",
       "    fig.rubberband_canvas.style.cursor = cursor;\n",
       "};\n",
       "\n",
       "mpl.figure.prototype.handle_message = function (fig, msg) {\n",
       "    fig.message.textContent = msg['message'];\n",
       "};\n",
       "\n",
       "mpl.figure.prototype.handle_draw = function (fig, _msg) {\n",
       "    // Request the server to send over a new figure.\n",
       "    fig.send_draw_message();\n",
       "};\n",
       "\n",
       "mpl.figure.prototype.handle_image_mode = function (fig, msg) {\n",
       "    fig.image_mode = msg['mode'];\n",
       "};\n",
       "\n",
       "mpl.figure.prototype.handle_history_buttons = function (fig, msg) {\n",
       "    for (var key in msg) {\n",
       "        if (!(key in fig.buttons)) {\n",
       "            continue;\n",
       "        }\n",
       "        fig.buttons[key].disabled = !msg[key];\n",
       "        fig.buttons[key].setAttribute('aria-disabled', !msg[key]);\n",
       "    }\n",
       "};\n",
       "\n",
       "mpl.figure.prototype.handle_navigate_mode = function (fig, msg) {\n",
       "    if (msg['mode'] === 'PAN') {\n",
       "        fig.buttons['Pan'].classList.add('active');\n",
       "        fig.buttons['Zoom'].classList.remove('active');\n",
       "    } else if (msg['mode'] === 'ZOOM') {\n",
       "        fig.buttons['Pan'].classList.remove('active');\n",
       "        fig.buttons['Zoom'].classList.add('active');\n",
       "    } else {\n",
       "        fig.buttons['Pan'].classList.remove('active');\n",
       "        fig.buttons['Zoom'].classList.remove('active');\n",
       "    }\n",
       "};\n",
       "\n",
       "mpl.figure.prototype.updated_canvas_event = function () {\n",
       "    // Called whenever the canvas gets updated.\n",
       "    this.send_message('ack', {});\n",
       "};\n",
       "\n",
       "// A function to construct a web socket function for onmessage handling.\n",
       "// Called in the figure constructor.\n",
       "mpl.figure.prototype._make_on_message_function = function (fig) {\n",
       "    return function socket_on_message(evt) {\n",
       "        if (evt.data instanceof Blob) {\n",
       "            /* FIXME: We get \"Resource interpreted as Image but\n",
       "             * transferred with MIME type text/plain:\" errors on\n",
       "             * Chrome.  But how to set the MIME type?  It doesn't seem\n",
       "             * to be part of the websocket stream */\n",
       "            evt.data.type = 'image/png';\n",
       "\n",
       "            /* Free the memory for the previous frames */\n",
       "            if (fig.imageObj.src) {\n",
       "                (window.URL || window.webkitURL).revokeObjectURL(\n",
       "                    fig.imageObj.src\n",
       "                );\n",
       "            }\n",
       "\n",
       "            fig.imageObj.src = (window.URL || window.webkitURL).createObjectURL(\n",
       "                evt.data\n",
       "            );\n",
       "            fig.updated_canvas_event();\n",
       "            fig.waiting = false;\n",
       "            return;\n",
       "        } else if (\n",
       "            typeof evt.data === 'string' &&\n",
       "            evt.data.slice(0, 21) === 'data:image/png;base64'\n",
       "        ) {\n",
       "            fig.imageObj.src = evt.data;\n",
       "            fig.updated_canvas_event();\n",
       "            fig.waiting = false;\n",
       "            return;\n",
       "        }\n",
       "\n",
       "        var msg = JSON.parse(evt.data);\n",
       "        var msg_type = msg['type'];\n",
       "\n",
       "        // Call the  \"handle_{type}\" callback, which takes\n",
       "        // the figure and JSON message as its only arguments.\n",
       "        try {\n",
       "            var callback = fig['handle_' + msg_type];\n",
       "        } catch (e) {\n",
       "            console.log(\n",
       "                \"No handler for the '\" + msg_type + \"' message type: \",\n",
       "                msg\n",
       "            );\n",
       "            return;\n",
       "        }\n",
       "\n",
       "        if (callback) {\n",
       "            try {\n",
       "                // console.log(\"Handling '\" + msg_type + \"' message: \", msg);\n",
       "                callback(fig, msg);\n",
       "            } catch (e) {\n",
       "                console.log(\n",
       "                    \"Exception inside the 'handler_\" + msg_type + \"' callback:\",\n",
       "                    e,\n",
       "                    e.stack,\n",
       "                    msg\n",
       "                );\n",
       "            }\n",
       "        }\n",
       "    };\n",
       "};\n",
       "\n",
       "// from http://stackoverflow.com/questions/1114465/getting-mouse-location-in-canvas\n",
       "mpl.findpos = function (e) {\n",
       "    //this section is from http://www.quirksmode.org/js/events_properties.html\n",
       "    var targ;\n",
       "    if (!e) {\n",
       "        e = window.event;\n",
       "    }\n",
       "    if (e.target) {\n",
       "        targ = e.target;\n",
       "    } else if (e.srcElement) {\n",
       "        targ = e.srcElement;\n",
       "    }\n",
       "    if (targ.nodeType === 3) {\n",
       "        // defeat Safari bug\n",
       "        targ = targ.parentNode;\n",
       "    }\n",
       "\n",
       "    // pageX,Y are the mouse positions relative to the document\n",
       "    var boundingRect = targ.getBoundingClientRect();\n",
       "    var x = e.pageX - (boundingRect.left + document.body.scrollLeft);\n",
       "    var y = e.pageY - (boundingRect.top + document.body.scrollTop);\n",
       "\n",
       "    return { x: x, y: y };\n",
       "};\n",
       "\n",
       "/*\n",
       " * return a copy of an object with only non-object keys\n",
       " * we need this to avoid circular references\n",
       " * http://stackoverflow.com/a/24161582/3208463\n",
       " */\n",
       "function simpleKeys(original) {\n",
       "    return Object.keys(original).reduce(function (obj, key) {\n",
       "        if (typeof original[key] !== 'object') {\n",
       "            obj[key] = original[key];\n",
       "        }\n",
       "        return obj;\n",
       "    }, {});\n",
       "}\n",
       "\n",
       "mpl.figure.prototype.mouse_event = function (event, name) {\n",
       "    var canvas_pos = mpl.findpos(event);\n",
       "\n",
       "    if (name === 'button_press') {\n",
       "        this.canvas.focus();\n",
       "        this.canvas_div.focus();\n",
       "    }\n",
       "\n",
       "    var x = canvas_pos.x * this.ratio;\n",
       "    var y = canvas_pos.y * this.ratio;\n",
       "\n",
       "    this.send_message(name, {\n",
       "        x: x,\n",
       "        y: y,\n",
       "        button: event.button,\n",
       "        step: event.step,\n",
       "        guiEvent: simpleKeys(event),\n",
       "    });\n",
       "\n",
       "    /* This prevents the web browser from automatically changing to\n",
       "     * the text insertion cursor when the button is pressed.  We want\n",
       "     * to control all of the cursor setting manually through the\n",
       "     * 'cursor' event from matplotlib */\n",
       "    event.preventDefault();\n",
       "    return false;\n",
       "};\n",
       "\n",
       "mpl.figure.prototype._key_event_extra = function (_event, _name) {\n",
       "    // Handle any extra behaviour associated with a key event\n",
       "};\n",
       "\n",
       "mpl.figure.prototype.key_event = function (event, name) {\n",
       "    // Prevent repeat events\n",
       "    if (name === 'key_press') {\n",
       "        if (event.which === this._key) {\n",
       "            return;\n",
       "        } else {\n",
       "            this._key = event.which;\n",
       "        }\n",
       "    }\n",
       "    if (name === 'key_release') {\n",
       "        this._key = null;\n",
       "    }\n",
       "\n",
       "    var value = '';\n",
       "    if (event.ctrlKey && event.which !== 17) {\n",
       "        value += 'ctrl+';\n",
       "    }\n",
       "    if (event.altKey && event.which !== 18) {\n",
       "        value += 'alt+';\n",
       "    }\n",
       "    if (event.shiftKey && event.which !== 16) {\n",
       "        value += 'shift+';\n",
       "    }\n",
       "\n",
       "    value += 'k';\n",
       "    value += event.which.toString();\n",
       "\n",
       "    this._key_event_extra(event, name);\n",
       "\n",
       "    this.send_message(name, { key: value, guiEvent: simpleKeys(event) });\n",
       "    return false;\n",
       "};\n",
       "\n",
       "mpl.figure.prototype.toolbar_button_onclick = function (name) {\n",
       "    if (name === 'download') {\n",
       "        this.handle_save(this, null);\n",
       "    } else {\n",
       "        this.send_message('toolbar_button', { name: name });\n",
       "    }\n",
       "};\n",
       "\n",
       "mpl.figure.prototype.toolbar_button_onmouseover = function (tooltip) {\n",
       "    this.message.textContent = tooltip;\n",
       "};\n",
       "mpl.toolbar_items = [[\"Home\", \"Reset original view\", \"fa fa-home icon-home\", \"home\"], [\"Back\", \"Back to previous view\", \"fa fa-arrow-left icon-arrow-left\", \"back\"], [\"Forward\", \"Forward to next view\", \"fa fa-arrow-right icon-arrow-right\", \"forward\"], [\"\", \"\", \"\", \"\"], [\"Pan\", \"Left button pans, Right button zooms\\nx/y fixes axis, CTRL fixes aspect\", \"fa fa-arrows icon-move\", \"pan\"], [\"Zoom\", \"Zoom to rectangle\\nx/y fixes axis, CTRL fixes aspect\", \"fa fa-square-o icon-check-empty\", \"zoom\"], [\"\", \"\", \"\", \"\"], [\"Download\", \"Download plot\", \"fa fa-floppy-o icon-save\", \"download\"]];\n",
       "\n",
       "mpl.extensions = [\"eps\", \"jpeg\", \"pdf\", \"png\", \"ps\", \"raw\", \"svg\", \"tif\"];\n",
       "\n",
       "mpl.default_extension = \"png\";/* global mpl */\n",
       "\n",
       "var comm_websocket_adapter = function (comm) {\n",
       "    // Create a \"websocket\"-like object which calls the given IPython comm\n",
       "    // object with the appropriate methods. Currently this is a non binary\n",
       "    // socket, so there is still some room for performance tuning.\n",
       "    var ws = {};\n",
       "\n",
       "    ws.close = function () {\n",
       "        comm.close();\n",
       "    };\n",
       "    ws.send = function (m) {\n",
       "        //console.log('sending', m);\n",
       "        comm.send(m);\n",
       "    };\n",
       "    // Register the callback with on_msg.\n",
       "    comm.on_msg(function (msg) {\n",
       "        //console.log('receiving', msg['content']['data'], msg);\n",
       "        // Pass the mpl event to the overridden (by mpl) onmessage function.\n",
       "        ws.onmessage(msg['content']['data']);\n",
       "    });\n",
       "    return ws;\n",
       "};\n",
       "\n",
       "mpl.mpl_figure_comm = function (comm, msg) {\n",
       "    // This is the function which gets called when the mpl process\n",
       "    // starts-up an IPython Comm through the \"matplotlib\" channel.\n",
       "\n",
       "    var id = msg.content.data.id;\n",
       "    // Get hold of the div created by the display call when the Comm\n",
       "    // socket was opened in Python.\n",
       "    var element = document.getElementById(id);\n",
       "    var ws_proxy = comm_websocket_adapter(comm);\n",
       "\n",
       "    function ondownload(figure, _format) {\n",
       "        window.open(figure.canvas.toDataURL());\n",
       "    }\n",
       "\n",
       "    var fig = new mpl.figure(id, ws_proxy, ondownload, element);\n",
       "\n",
       "    // Call onopen now - mpl needs it, as it is assuming we've passed it a real\n",
       "    // web socket which is closed, not our websocket->open comm proxy.\n",
       "    ws_proxy.onopen();\n",
       "\n",
       "    fig.parent_element = element;\n",
       "    fig.cell_info = mpl.find_output_cell(\"<div id='\" + id + \"'></div>\");\n",
       "    if (!fig.cell_info) {\n",
       "        console.error('Failed to find cell for figure', id, fig);\n",
       "        return;\n",
       "    }\n",
       "    fig.cell_info[0].output_area.element.one(\n",
       "        'cleared',\n",
       "        { fig: fig },\n",
       "        fig._remove_fig_handler\n",
       "    );\n",
       "};\n",
       "\n",
       "mpl.figure.prototype.handle_close = function (fig, msg) {\n",
       "    var width = fig.canvas.width / fig.ratio;\n",
       "    fig.cell_info[0].output_area.element.off(\n",
       "        'cleared',\n",
       "        fig._remove_fig_handler\n",
       "    );\n",
       "\n",
       "    // Update the output cell to use the data from the current canvas.\n",
       "    fig.push_to_output();\n",
       "    var dataURL = fig.canvas.toDataURL();\n",
       "    // Re-enable the keyboard manager in IPython - without this line, in FF,\n",
       "    // the notebook keyboard shortcuts fail.\n",
       "    IPython.keyboard_manager.enable();\n",
       "    fig.parent_element.innerHTML =\n",
       "        '<img src=\"' + dataURL + '\" width=\"' + width + '\">';\n",
       "    fig.close_ws(fig, msg);\n",
       "};\n",
       "\n",
       "mpl.figure.prototype.close_ws = function (fig, msg) {\n",
       "    fig.send_message('closing', msg);\n",
       "    // fig.ws.close()\n",
       "};\n",
       "\n",
       "mpl.figure.prototype.push_to_output = function (_remove_interactive) {\n",
       "    // Turn the data on the canvas into data in the output cell.\n",
       "    var width = this.canvas.width / this.ratio;\n",
       "    var dataURL = this.canvas.toDataURL();\n",
       "    this.cell_info[1]['text/html'] =\n",
       "        '<img src=\"' + dataURL + '\" width=\"' + width + '\">';\n",
       "};\n",
       "\n",
       "mpl.figure.prototype.updated_canvas_event = function () {\n",
       "    // Tell IPython that the notebook contents must change.\n",
       "    IPython.notebook.set_dirty(true);\n",
       "    this.send_message('ack', {});\n",
       "    var fig = this;\n",
       "    // Wait a second, then push the new image to the DOM so\n",
       "    // that it is saved nicely (might be nice to debounce this).\n",
       "    setTimeout(function () {\n",
       "        fig.push_to_output();\n",
       "    }, 1000);\n",
       "};\n",
       "\n",
       "mpl.figure.prototype._init_toolbar = function () {\n",
       "    var fig = this;\n",
       "\n",
       "    var toolbar = document.createElement('div');\n",
       "    toolbar.classList = 'btn-toolbar';\n",
       "    this.root.appendChild(toolbar);\n",
       "\n",
       "    function on_click_closure(name) {\n",
       "        return function (_event) {\n",
       "            return fig.toolbar_button_onclick(name);\n",
       "        };\n",
       "    }\n",
       "\n",
       "    function on_mouseover_closure(tooltip) {\n",
       "        return function (event) {\n",
       "            if (!event.currentTarget.disabled) {\n",
       "                return fig.toolbar_button_onmouseover(tooltip);\n",
       "            }\n",
       "        };\n",
       "    }\n",
       "\n",
       "    fig.buttons = {};\n",
       "    var buttonGroup = document.createElement('div');\n",
       "    buttonGroup.classList = 'btn-group';\n",
       "    var button;\n",
       "    for (var toolbar_ind in mpl.toolbar_items) {\n",
       "        var name = mpl.toolbar_items[toolbar_ind][0];\n",
       "        var tooltip = mpl.toolbar_items[toolbar_ind][1];\n",
       "        var image = mpl.toolbar_items[toolbar_ind][2];\n",
       "        var method_name = mpl.toolbar_items[toolbar_ind][3];\n",
       "\n",
       "        if (!name) {\n",
       "            /* Instead of a spacer, we start a new button group. */\n",
       "            if (buttonGroup.hasChildNodes()) {\n",
       "                toolbar.appendChild(buttonGroup);\n",
       "            }\n",
       "            buttonGroup = document.createElement('div');\n",
       "            buttonGroup.classList = 'btn-group';\n",
       "            continue;\n",
       "        }\n",
       "\n",
       "        button = fig.buttons[name] = document.createElement('button');\n",
       "        button.classList = 'btn btn-default';\n",
       "        button.href = '#';\n",
       "        button.title = name;\n",
       "        button.innerHTML = '<i class=\"fa ' + image + ' fa-lg\"></i>';\n",
       "        button.addEventListener('click', on_click_closure(method_name));\n",
       "        button.addEventListener('mouseover', on_mouseover_closure(tooltip));\n",
       "        buttonGroup.appendChild(button);\n",
       "    }\n",
       "\n",
       "    if (buttonGroup.hasChildNodes()) {\n",
       "        toolbar.appendChild(buttonGroup);\n",
       "    }\n",
       "\n",
       "    // Add the status bar.\n",
       "    var status_bar = document.createElement('span');\n",
       "    status_bar.classList = 'mpl-message pull-right';\n",
       "    toolbar.appendChild(status_bar);\n",
       "    this.message = status_bar;\n",
       "\n",
       "    // Add the close button to the window.\n",
       "    var buttongrp = document.createElement('div');\n",
       "    buttongrp.classList = 'btn-group inline pull-right';\n",
       "    button = document.createElement('button');\n",
       "    button.classList = 'btn btn-mini btn-primary';\n",
       "    button.href = '#';\n",
       "    button.title = 'Stop Interaction';\n",
       "    button.innerHTML = '<i class=\"fa fa-power-off icon-remove icon-large\"></i>';\n",
       "    button.addEventListener('click', function (_evt) {\n",
       "        fig.handle_close(fig, {});\n",
       "    });\n",
       "    button.addEventListener(\n",
       "        'mouseover',\n",
       "        on_mouseover_closure('Stop Interaction')\n",
       "    );\n",
       "    buttongrp.appendChild(button);\n",
       "    var titlebar = this.root.querySelector('.ui-dialog-titlebar');\n",
       "    titlebar.insertBefore(buttongrp, titlebar.firstChild);\n",
       "};\n",
       "\n",
       "mpl.figure.prototype._remove_fig_handler = function (event) {\n",
       "    var fig = event.data.fig;\n",
       "    fig.close_ws(fig, {});\n",
       "};\n",
       "\n",
       "mpl.figure.prototype._root_extra_style = function (el) {\n",
       "    el.style.boxSizing = 'content-box'; // override notebook setting of border-box.\n",
       "};\n",
       "\n",
       "mpl.figure.prototype._canvas_extra_style = function (el) {\n",
       "    // this is important to make the div 'focusable\n",
       "    el.setAttribute('tabindex', 0);\n",
       "    // reach out to IPython and tell the keyboard manager to turn it's self\n",
       "    // off when our div gets focus\n",
       "\n",
       "    // location in version 3\n",
       "    if (IPython.notebook.keyboard_manager) {\n",
       "        IPython.notebook.keyboard_manager.register_events(el);\n",
       "    } else {\n",
       "        // location in version 2\n",
       "        IPython.keyboard_manager.register_events(el);\n",
       "    }\n",
       "};\n",
       "\n",
       "mpl.figure.prototype._key_event_extra = function (event, _name) {\n",
       "    var manager = IPython.notebook.keyboard_manager;\n",
       "    if (!manager) {\n",
       "        manager = IPython.keyboard_manager;\n",
       "    }\n",
       "\n",
       "    // Check for shift+enter\n",
       "    if (event.shiftKey && event.which === 13) {\n",
       "        this.canvas_div.blur();\n",
       "        // select the cell after this one\n",
       "        var index = IPython.notebook.find_cell_index(this.cell_info[0]);\n",
       "        IPython.notebook.select(index + 1);\n",
       "    }\n",
       "};\n",
       "\n",
       "mpl.figure.prototype.handle_save = function (fig, _msg) {\n",
       "    fig.ondownload(fig, null);\n",
       "};\n",
       "\n",
       "mpl.find_output_cell = function (html_output) {\n",
       "    // Return the cell and output element which can be found *uniquely* in the notebook.\n",
       "    // Note - this is a bit hacky, but it is done because the \"notebook_saving.Notebook\"\n",
       "    // IPython event is triggered only after the cells have been serialised, which for\n",
       "    // our purposes (turning an active figure into a static one), is too late.\n",
       "    var cells = IPython.notebook.get_cells();\n",
       "    var ncells = cells.length;\n",
       "    for (var i = 0; i < ncells; i++) {\n",
       "        var cell = cells[i];\n",
       "        if (cell.cell_type === 'code') {\n",
       "            for (var j = 0; j < cell.output_area.outputs.length; j++) {\n",
       "                var data = cell.output_area.outputs[j];\n",
       "                if (data.data) {\n",
       "                    // IPython >= 3 moved mimebundle to data attribute of output\n",
       "                    data = data.data;\n",
       "                }\n",
       "                if (data['text/html'] === html_output) {\n",
       "                    return [cell, data, j];\n",
       "                }\n",
       "            }\n",
       "        }\n",
       "    }\n",
       "};\n",
       "\n",
       "// Register the function which deals with the matplotlib target/channel.\n",
       "// The kernel may be null if the page has been refreshed.\n",
       "if (IPython.notebook.kernel !== null) {\n",
       "    IPython.notebook.kernel.comm_manager.register_target(\n",
       "        'matplotlib',\n",
       "        mpl.mpl_figure_comm\n",
       "    );\n",
       "}\n"
      ],
      "text/plain": [
       "<IPython.core.display.Javascript object>"
      ]
     },
     "metadata": {},
     "output_type": "display_data"
    },
    {
     "data": {
      "text/html": [
       "<img src=\"data:image/png;base64,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\" width=\"1173\">"
      ],
      "text/plain": [
       "<IPython.core.display.HTML object>"
      ]
     },
     "metadata": {},
     "output_type": "display_data"
    }
   ],
   "source": [
    "##Plotting:\n",
    "import reflections\n",
    "from reflections import plt_incidence, plt_to_subs, plt_from_subs\n",
    "\n",
    "plt.axhline(color = 'black') #X axis\n",
    "plt.axvline(color = 'black') #Y Axis\n",
    "\n",
    "plt.xlim(-(k + 10), a2 + 10)\n",
    "plt.ylim(-10, b2 + 10)\n",
    "\n",
    "# ninety = math.radians(90)\n",
    "# point1 = [a1 - ((d/2) * math.cos(ninety - theta)), b1 + ((d/2) * math.sin(ninety - theta))]\n",
    "# point2 = [a1 + ((d/2) * math.cos(ninety - theta)), b1 - ((d/2) * math.sin(ninety - theta))]\n",
    "# x_values = [point1[0], point2[0]]\n",
    "# y_values = [point1[1], point2[1]]\n",
    "# plt.plot(x_values, y_values)\n",
    "    \n",
    "rx, ry = np.meshgrid(np.arange(-60, 60, 0.05),np.arange(-10, 110, 0.05))\n",
    "plt.contour(rx, ry, rx**2 + (ry - k)**2 - k**2 , [0], colors = 'limegreen') #Roller\n",
    "    \n",
    "itx, ity = np.meshgrid(np.arange(pq[0], a2, 0.05),np.arange(pq[1], b2, 0.05))\n",
    "plt.contour(itx, ity, (b2 - pq[1]) * (itx - a2) + (pq[0] - a2) * (ity - b2), [0], colors = 'm') #Incoming tape\n",
    "\n",
    "#Incidence\n",
    "s0_eqns = list(sid.keys())\n",
    "plt_incidence(sid.values(), s0_eqns, a0, b0)\n",
    "\n",
    "it0_eqns = list(tid.keys())\n",
    "plt_incidence(tid.values(), it0_eqns, a0, b0)\n",
    "\n",
    "rol0_eqns = list(rol.keys())\n",
    "plt_incidence(rol.values(), rol0_eqns, a0, b0)\n",
    "\n",
    "#1st reflection\n",
    "plt_to_subs(it2subs1_soln, tid.values(), it1_eqns)\n",
    "\n",
    "plt_to_subs(rol2subs1_soln, rol.values(), rol1_eqns)\n",
    "\n",
    "all_subs1_soln = subs2rol1_soln + subs2it1_soln\n",
    "all_subs1_eqns = subs2rol1_eqns + subs2it1_eqns\n",
    "\n",
    "plt_from_subs(all_subs1_soln, all_subs1_eqns)\n",
    "\n",
    "#2nd reflection\n",
    "# plt_to_subs(it2subs2_soln, subs2it1_soln, it2_eqns)\n",
    "\n",
    "# plt_to_subs(rol2subs2_soln, subs2rol1_soln, rol2_eqns)\n",
    "\n",
    "# all_subs2_soln = subs2rol2_soln + subs2it2_soln\n",
    "# all_subs2_eqns = subs2rol2_eqns + subs2it2_eqns\n",
    "\n",
    "# plt_from_subs(all_subs2_soln, all_subs2_eqns)\n",
    "\n",
    "#3rd reflection\n",
    "\n",
    "# plt_to_subs(it2subs3_soln, subs2it2_soln, it3_eqns)\n",
    "\n",
    "# plt_to_subs(rol2subs3_soln, subs2rol2_soln, rol3_eqns)\n",
    "\n",
    "# all_subs3_soln = subs2rol3_soln + subs2it3_soln\n",
    "# all_subs3_eqns = subs2rol3_eqns + subs2it3_eqns\n",
    "\n",
    "# plt_from_subs(all_subs3_soln, all_subs3_eqns)\n",
    "\n",
    "#plt.savefig(\"1.a_30.svg\")\n",
    "#plt.savefig(\"3.c_18.jpg\", dpi = 600)\n"
   ]
  },
  {
   "cell_type": "code",
   "execution_count": null,
   "metadata": {},
   "outputs": [],
   "source": []
  }
 ],
 "metadata": {
  "kernelspec": {
   "display_name": "Python 3",
   "language": "python",
   "name": "python3"
  },
  "language_info": {
   "codemirror_mode": {
    "name": "ipython",
    "version": 3
   },
   "file_extension": ".py",
   "mimetype": "text/x-python",
   "name": "python",
   "nbconvert_exporter": "python",
   "pygments_lexer": "ipython3",
   "version": "3.8.5"
  }
 },
 "nbformat": 4,
 "nbformat_minor": 4
}
