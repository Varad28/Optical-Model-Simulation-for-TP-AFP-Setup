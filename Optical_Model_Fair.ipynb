{
 "cells": [
  {
   "cell_type": "markdown",
   "metadata": {},
   "source": [
    "# 2-D Optical Model for Laser-Assisted Thermoplastic-Automated Fibre Placement\n",
    "\n",
    "Varad Kulkarni"
   ]
  },
  {
   "cell_type": "markdown",
   "metadata": {},
   "source": [
    "# Input Parameters and Incidence Calculations"
   ]
  },
  {
   "cell_type": "code",
   "execution_count": 1,
   "metadata": {
    "scrolled": false
   },
   "outputs": [
    {
     "name": "stdout",
     "output_type": "stream",
     "text": [
      "Focus Point: [111.91561895543977, 48.290299668870915]\n",
      "Tangent Point: [37.41649932998122, 16.833668006704226]\n",
      "\n",
      "Equtions of all the rays are:\n"
     ]
    },
    {
     "data": {
      "text/latex": [
       "$\\displaystyle 32.4287784004553 x - 94.180010980341 y + 918.694146402471 = 0$"
      ],
      "text/plain": [
       "Eq(32.4287784004553*x - 94.180010980341*y + 918.694146402471, 0)"
      ]
     },
     "metadata": {},
     "output_type": "display_data"
    },
    {
     "data": {
      "text/latex": [
       "$\\displaystyle 34.7666717740761 x - 93.342266260021 y + 616.59241885161 = 0$"
      ],
      "text/plain": [
       "Eq(34.7666717740761*x - 93.342266260021*y + 616.59241885161, 0)"
      ]
     },
     "metadata": {},
     "output_type": "display_data"
    },
    {
     "data": {
      "text/latex": [
       "$\\displaystyle 37.0829529329787 x - 92.4464966268245 y + 314.107395256869 = 0$"
      ],
      "text/plain": [
       "Eq(37.0829529329787*x - 92.4464966268245*y + 314.107395256869, 0)"
      ]
     },
     "metadata": {},
     "output_type": "display_data"
    },
    {
     "data": {
      "text/latex": [
       "$\\displaystyle 39.3761819934124 x - 91.4932589234019 y + 11.4271111978824 = 0$"
      ],
      "text/plain": [
       "Eq(39.3761819934124*x - 91.4932589234019*y + 11.4271111978824, 0)"
      ]
     },
     "metadata": {},
     "output_type": "display_data"
    },
    {
     "data": {
      "text/latex": [
       "$\\displaystyle 41.6449334016407 x - 90.4831457166245 y - 291.260276364781 = 0$"
      ],
      "text/plain": [
       "Eq(41.6449334016407*x - 90.4831457166245*y - 291.260276364781, 0)"
      ]
     },
     "metadata": {},
     "output_type": "display_data"
    },
    {
     "data": {
      "text/latex": [
       "$\\displaystyle 43.887796820117 x - 89.4167849292241 y - 593.766606054762 = 0$"
      ],
      "text/plain": [
       "Eq(43.887796820117*x - 89.4167849292241*y - 593.766606054762, 0)"
      ]
     },
     "metadata": {},
     "output_type": "display_data"
    },
    {
     "data": {
      "text/latex": [
       "$\\displaystyle 46.1033780042008 x - 88.2948394494534 y - 895.90382904779 = 0$"
      ],
      "text/plain": [
       "Eq(46.1033780042008*x - 88.2948394494534*y - 895.90382904779, 0)"
      ]
     },
     "metadata": {},
     "output_type": "display_data"
    },
    {
     "data": {
      "text/latex": [
       "$\\displaystyle 48.2902996688709 x - 87.1180067190109 y - 1197.48412596961 = 0$"
      ],
      "text/plain": [
       "Eq(48.2902996688709*x - 87.1180067190109*y - 1197.48412596961, 0)"
      ]
     },
     "metadata": {},
     "output_type": "display_data"
    },
    {
     "data": {
      "text/latex": [
       "$\\displaystyle 50.4472023448949 x - 85.8870182994859 y - 1498.32002365125 = 0$"
      ],
      "text/plain": [
       "Eq(50.4472023448949*x - 85.8870182994859*y - 1498.32002365125, 0)"
      ]
     },
     "metadata": {},
     "output_type": "display_data"
    },
    {
     "data": {
      "text/latex": [
       "$\\displaystyle 52.5727452239243 x - 84.6026394175934 y - 1798.22451166911 = 0$"
      ],
      "text/plain": [
       "Eq(52.5727452239243*x - 84.6026394175934*y - 1798.22451166911, 0)"
      ]
     },
     "metadata": {},
     "output_type": "display_data"
    },
    {
     "data": {
      "text/latex": [
       "$\\displaystyle 54.6656069919896 x - 83.2656684894821 y - 2097.01115859738 = 0$"
      ],
      "text/plain": [
       "Eq(54.6656069919896*x - 83.2656684894821*y - 2097.01115859738, 0)"
      ]
     },
     "metadata": {},
     "output_type": "display_data"
    },
    {
     "data": {
      "text/latex": [
       "$\\displaystyle 56.724486650876 x - 81.8769366244096 y - 2394.49422790048 = 0$"
      ],
      "text/plain": [
       "Eq(56.724486650876*x - 81.8769366244096*y - 2394.49422790048, 0)"
      ]
     },
     "metadata": {},
     "output_type": "display_data"
    },
    {
     "data": {
      "text/latex": [
       "$\\displaystyle 58.7481043268713 x - 80.4373071080953 y - 2690.48879339364 = 0$"
      ],
      "text/plain": [
       "Eq(58.7481043268713*x - 80.4373071080953*y - 2690.48879339364, 0)"
      ]
     },
     "metadata": {},
     "output_type": "display_data"
    },
    {
     "data": {
      "text/latex": [
       "$\\displaystyle 60.7352020663813 x - 78.9476748660708 y - 2984.81085419961 = 0$"
      ],
      "text/plain": [
       "Eq(60.7352020663813*x - 78.9476748660708*y - 2984.81085419961, 0)"
      ]
     },
     "metadata": {},
     "output_type": "display_data"
    },
    {
     "data": {
      "text/latex": [
       "$\\displaystyle 62.6845446179186 x - 77.4089659073622 y - 3277.27744913031 = 0$"
      ],
      "text/plain": [
       "Eq(62.6845446179186*x - 77.4089659073622*y - 3277.27744913031, 0)"
      ]
     },
     "metadata": {},
     "output_type": "display_data"
    },
    {
     "name": "stdout",
     "output_type": "stream",
     "text": [
      "Final rol: {Eq(39.3761819934124*x - 91.4932589234019*y + 11.4271111978824, 0): [36.5091671773659, 15.8374369811756], Eq(41.6449334016407*x - 90.4831457166245*y - 291.260276364781, 0): [31.8040680913788, 11.4189003158419]}\n",
      "\n",
      "Substrate incidences: dict_values([[38.3607038133623, 0.0], [29.7007555227267, 0.0], [19.4324986114067, 0.0], [42.2127086427057, 0.0], [13.5291960197600, 0.0], [34.2045009065038, 0.0], [24.7976122364289, 0.0], [49.1446599772126, 0.0], [52.2820652061256, 0.0], [45.7970316526964, 0.0]])\n",
      "\n",
      "Tape incidences: dict_values([[44.8219391509910, 25.1880930349841], [42.3237992128408, 22.3698238534269], [39.5799782984824, 19.2743904053016]])\n",
      "\n",
      "Roller incidences: dict_values([[36.5091671773659, 15.8374369811756], [31.8040680913788, 11.4189003158419]])\n"
     ]
    }
   ],
   "source": [
    "%matplotlib notebook\n",
    "\n",
    "import math\n",
    "\n",
    "import sympy as sp\n",
    "\n",
    "from sympy import Eq\n",
    "\n",
    "import numpy as np\n",
    "\n",
    "import matplotlib.pyplot as plt\n",
    "\n",
    "# Input:\n",
    "\n",
    "d = 40  # diameter of laser head\n",
    "\n",
    "a1 = 115  # x co-ordinate of the laser head\n",
    "\n",
    "b1 = 50  # y co-ordinate of the laser haed\n",
    "\n",
    "phid = 10  # opening angle or beam angle\n",
    "\n",
    "thetad = 29  # angle of incedence\n",
    "\n",
    "n = 15 # number of rays to analyse\n",
    "\n",
    "k = 50  # radius of consolidation roller\n",
    "\n",
    "a2 = 120  # x co-ordinate of exit point of tape from placement head\n",
    "\n",
    "b2 = 110  # y co-ordinate of exit point of tape from placement head\n",
    "\n",
    "# Converting angles to radians:\n",
    "\n",
    "theta = math.radians(thetad)\n",
    "\n",
    "phi = math.radians(phid) \n",
    "\n",
    "# Calculating focus point co-ordinates:\n",
    "\n",
    "a0 = a1 - (d * math.cos(theta)/2 * math.tan(phi))\n",
    "\n",
    "b0 = b1 - (d * math.sin(theta)/2 * math.tan(phi))\n",
    "\n",
    "print('Focus Point:',[a0,b0])\n",
    "\n",
    "# Calculating Tangent point to Roller:\n",
    "\n",
    "eq1 = sp.Function('eq1')\n",
    "\n",
    "eq2 = sp.Function('eq2')\n",
    "\n",
    "p, q = sp.symbols('p q')  # (p,q) is the tangent point \n",
    "\n",
    "eq1 = Eq(p**2 + (q - k)**2 - k**2, 0)  # Equation of circle that (p,q) satisfies \n",
    "\n",
    "eq2 = Eq((q - k) * (b2 - q) - p * (p - a2), 0)  # Equation developed from slope relation m1 = -1/m2 \n",
    "\n",
    "l = sp.solve([eq1, eq2], [p, q])  # Tuple in list; 2 tangent points\n",
    "\n",
    "# Filtering out the required tangent point:\n",
    "\n",
    "t1 = []  # Empty list to store x co-rdinates of the 2 tangent points\n",
    "\n",
    "for t in l:  # for any element in list l (loop starts from l[0])\n",
    "    \n",
    "    t1.append(t[0]) #From 1st tuple in l (t=0), add element \\w range 0 into t1. ie; the x co-ordinate -> loop continues\n",
    "\n",
    "pq = []  # list of final tangent co-ordinates\n",
    "\n",
    "tgt = list()\n",
    "\n",
    "tgt.append(max(t1[0], t1[1])) #Store the maximum of the 2 x co-ordinates in pq\n",
    "\n",
    "t2 = [] \n",
    "\n",
    "for t in l:  # for any element in list l (loop starts from l[0])\n",
    "    \n",
    "    t2.append(t[1])  # From 1st tupple (t=1), add element \\w range 1 in t2. ie; the y co-ordinate -> loop continues \n",
    "    \n",
    "tgt.append(min(t2[0], t2[1]))  # Store the minimum of the 2 y co-ordinates in pq\n",
    "\n",
    "p = float(tgt[0])\n",
    "\n",
    "q = float(tgt[1])\n",
    "\n",
    "pq = [p,q]\n",
    "\n",
    "print('Tangent Point:',pq)\n",
    "\n",
    "# Defining all values of opening angle (phi) based on number of rays (n):\n",
    "\n",
    "phidiv = list(np.linspace(-phi, phi, n))\n",
    "\n",
    "# Calculating all normal vectors based on number of rays (n):\n",
    "\n",
    "nv = np.array([b0, -b0/math.tan(theta)])\n",
    "\n",
    "# Calculating rotated normal vectors:\n",
    "\n",
    "anv = []\n",
    "\n",
    "for angle in phidiv:\n",
    "    \n",
    "    mul = np.array([[math.cos(angle), -math.sin(angle)], [math.sin(angle), math.cos(angle)]]) @ nv \n",
    "    \n",
    "    l = list(mul)  # converting rotated vector component numpy array to list\n",
    "    \n",
    "    anv.append(l)  # Adding all rotated normal vectors to new blank list\n",
    "\n",
    "areq = []\n",
    "\n",
    "# Defining system of equations for all ray vectors:\n",
    "\n",
    "eq = sp.Function('eq')\n",
    "\n",
    "x, y = sp.symbols('x y')\n",
    "\n",
    "print('\\nEqutions of all the rays are:')\n",
    "\n",
    "for ij in anv:\n",
    "    \n",
    "    eq = Eq(ij[0] * (x - a0) + ij[1] * (y - b0), 0) #Point Normal form of equation of a line\n",
    "    \n",
    "    display(eq)\n",
    "    \n",
    "    areq.append(eq) #Add all equations to a list\n",
    "\n",
    "# First Incidence Calculations:\n",
    "\n",
    "tape = sp.Function('tape')\n",
    "\n",
    "roller = sp.Function('roller')\n",
    "\n",
    "tape = Eq((b2 - pq[1]) * (x - a2) + (pq[0] - a2) * (y - b2), 0)\n",
    "\n",
    "roller = Eq(x**2 + (y - k)**2 - k**2, 0)\n",
    "\n",
    "xieqn = set()\n",
    "\n",
    "beta = {}\n",
    "\n",
    "tid={}\n",
    "\n",
    "for eqn in areq:\n",
    "    \n",
    "    t = sp.solve([eqn, tape], [x, y])  # Solving rays and tape\n",
    "    \n",
    "    tt = list(dict.values(t))\n",
    "    \n",
    "    if tt[0] >= pq[0] and tt[1] > 0 and tt[0] < a2 and tt[1] < b2:\n",
    "        \n",
    "        al = {eqn:tt}\n",
    "        \n",
    "        tid.update(al)\n",
    "        \n",
    "    elif tt[0] < pq[0] and tt[1] > 0:\n",
    "        \n",
    "        z = sp.solve([eqn, roller], [x,y])  # Solving rays and roller\n",
    "        \n",
    "        alpha = {eqn:z}\n",
    "        \n",
    "        beta.update(alpha)  # Adding 'all' solutions to dictionary beta\n",
    "        \n",
    "    elif tt[1] < 0:\n",
    "        \n",
    "        xieqn.add(eqn)\n",
    "        \n",
    "    else:\n",
    "        \n",
    "            xieqn.add(eqn)\n",
    "            \n",
    "ri = []\n",
    "\n",
    "rieqn=set()\n",
    "\n",
    "rol={}\n",
    "            \n",
    "for i in beta:\n",
    "    \n",
    "    for j in beta[i]:\n",
    "        \n",
    "        if type(j[0]) is not sp.core.add.Add or type(j[1]) is not sp.core.add.Add: \n",
    "            # sp.core.add.Add is the data type of the complex coordinates obtained after solving rays and roller using sympy  \n",
    "            \n",
    "            ri.append(j)\n",
    "            \n",
    "            ro = {i:''}\n",
    "            \n",
    "            rol.update(ro)\n",
    "            \n",
    "        else:\n",
    "            \n",
    "            xieqn.add(i)  # Appending equations with complex solutions to xieqn\n",
    "\n",
    "xieqn = list(xieqn)\n",
    "\n",
    "# Filtering required point of incidence on roller from real coordinates:\n",
    "\n",
    "s1 = []\n",
    "\n",
    "for s in ri:\n",
    "    \n",
    "    s1.append(s[0])  # Appending all x values in s1\n",
    "\n",
    "itx = iter(s1)\n",
    "\n",
    "s1m = []\n",
    "\n",
    "for x in itx:\n",
    "    \n",
    "    mx = max(x, next(itx))  # Comparing every 2 x coordinates and - \n",
    "    \n",
    "    s1m.append(mx)  # -storing max in s1m\n",
    "\n",
    "s2 = []\n",
    "\n",
    "for s in ri:  # Same for y coordinate\n",
    "    \n",
    "    s2.append(s[1])\n",
    "    \n",
    "ity = iter(s2)\n",
    "\n",
    "s2m = []\n",
    "\n",
    "for y in ity:\n",
    "    \n",
    "    my = max(y, next(ity))\n",
    "    \n",
    "    s2m.append(my)\n",
    "\n",
    "fss = [(x, y) for [x, y] in zip(s1m, s2m)]\n",
    "\n",
    "for key, value in zip(rol, fss):\n",
    "    \n",
    "    rol[key] = list(value)\n",
    "    \n",
    "print('Final rol:',rol)\n",
    "\n",
    "x, y = sp.symbols('x y')\n",
    "\n",
    "substrate = sp.Function('substrate')\n",
    "\n",
    "substrate = Eq(y, 0)\n",
    "\n",
    "sid={}\n",
    "\n",
    "for i in xieqn:\n",
    "    \n",
    "    s = sp.solve([i, substrate], [x, y])\n",
    "    \n",
    "    sl = list(dict.values(s))\n",
    "    \n",
    "    pa = {i:sl}\n",
    "    \n",
    "    sid.update(pa)\n",
    "    \n",
    "print('\\nSubstrate incidences:',sid.values())\n",
    "\n",
    "print('\\nTape incidences:',tid.values())\n",
    "\n",
    "print('\\nRoller incidences:',rol.values())"
   ]
  },
  {
   "cell_type": "markdown",
   "metadata": {},
   "source": [
    "# Reflection Calculations"
   ]
  },
  {
   "cell_type": "code",
   "execution_count": 2,
   "metadata": {
    "scrolled": false
   },
   "outputs": [
    {
     "name": "stdout",
     "output_type": "stream",
     "text": [
      "\n",
      "First reflections; Incoming Tape to Substrate:\n"
     ]
    },
    {
     "data": {
      "text/plain": [
       "[39.4183299702481, 0.0]"
      ]
     },
     "metadata": {},
     "output_type": "display_data"
    },
    {
     "data": {
      "text/plain": [
       "[36.9381118840089, 0.0]"
      ]
     },
     "metadata": {},
     "output_type": "display_data"
    },
    {
     "data": {
      "text/plain": [
       "[34.4279309435615, 0.0]"
      ]
     },
     "metadata": {},
     "output_type": "display_data"
    },
    {
     "name": "stdout",
     "output_type": "stream",
     "text": [
      "\n",
      "First reflections; Roller to Substrate:\n"
     ]
    },
    {
     "data": {
      "text/plain": [
       "[30.9063790562572, 0.0]"
      ]
     },
     "metadata": {},
     "output_type": "display_data"
    },
    {
     "data": {
      "text/plain": [
       "[23.5945788939514, 0.0]"
      ]
     },
     "metadata": {},
     "output_type": "display_data"
    },
    {
     "name": "stdout",
     "output_type": "stream",
     "text": [
      "\n",
      "First reflections; Substrate to Incoming Tape:\n",
      "\n",
      "First reflections; Substrate to Roller:\n"
     ]
    },
    {
     "data": {
      "text/plain": [
       "[26.6453960417463, 7.69133812351791]"
      ]
     },
     "metadata": {},
     "output_type": "display_data"
    },
    {
     "data": {
      "text/plain": [
       "[21.4607735154038, 4.83989371003936]"
      ]
     },
     "metadata": {},
     "output_type": "display_data"
    },
    {
     "data": {
      "text/plain": [
       "[15.0136241803660, 2.30732667410299]"
      ]
     },
     "metadata": {},
     "output_type": "display_data"
    },
    {
     "data": {
      "text/plain": [
       "[28.9177720647929, 9.21075559894883]"
      ]
     },
     "metadata": {},
     "output_type": "display_data"
    },
    {
     "data": {
      "text/plain": [
       "[11.0228590476081, 1.23016733249371]"
      ]
     },
     "metadata": {},
     "output_type": "display_data"
    },
    {
     "data": {
      "text/plain": [
       "[24.1746837071832, 6.23260725542759]"
      ]
     },
     "metadata": {},
     "output_type": "display_data"
    },
    {
     "data": {
      "text/plain": [
       "[18.4394960241281, 3.52436136666691]"
      ]
     },
     "metadata": {},
     "output_type": "display_data"
    },
    {
     "data": {
      "text/plain": [
       "[32.9899983815047, 12.4279358194373]"
      ]
     },
     "metadata": {},
     "output_type": "display_data"
    },
    {
     "data": {
      "text/plain": [
       "[34.8330264113901, 14.1299530105772]"
      ]
     },
     "metadata": {},
     "output_type": "display_data"
    },
    {
     "data": {
      "text/plain": [
       "[31.0244790387302, 10.7892654955892]"
      ]
     },
     "metadata": {},
     "output_type": "display_data"
    },
    {
     "name": "stdout",
     "output_type": "stream",
     "text": [
      "\n",
      "Second reflections; Incoming Tape to Substrate:\n",
      "\n",
      "Second reflections; Roller to Substrate:\n"
     ]
    },
    {
     "data": {
      "text/plain": [
       "[27.6839388121528, 0.0]"
      ]
     },
     "metadata": {},
     "output_type": "display_data"
    },
    {
     "data": {
      "text/plain": [
       "[20.7170649522017, 0.0]"
      ]
     },
     "metadata": {},
     "output_type": "display_data"
    },
    {
     "data": {
      "text/plain": [
       "[13.8134970974160, 0.0]"
      ]
     },
     "metadata": {},
     "output_type": "display_data"
    },
    {
     "data": {
      "text/plain": [
       "[31.4521040006840, 0.0]"
      ]
     },
     "metadata": {},
     "output_type": "display_data"
    },
    {
     "data": {
      "text/plain": [
       "[10.0483517983078, 0.0]"
      ]
     },
     "metadata": {},
     "output_type": "display_data"
    },
    {
     "data": {
      "text/plain": [
       "[24.1403961714367, 0.0]"
      ]
     },
     "metadata": {},
     "output_type": "display_data"
    },
    {
     "data": {
      "text/plain": [
       "[17.3135098037974, 0.0]"
      ]
     },
     "metadata": {},
     "output_type": "display_data"
    },
    {
     "data": {
      "text/plain": [
       "[40.2060106324394, 0.0]"
      ]
     },
     "metadata": {},
     "output_type": "display_data"
    },
    {
     "data": {
      "text/plain": [
       "[45.6047194335616, 0.0]"
      ]
     },
     "metadata": {},
     "output_type": "display_data"
    },
    {
     "data": {
      "text/plain": [
       "[35.5702084198118, 0.0]"
      ]
     },
     "metadata": {},
     "output_type": "display_data"
    },
    {
     "name": "stdout",
     "output_type": "stream",
     "text": [
      "\n",
      "Second reflections; Substrate to Incoming Tape:\n",
      "\n",
      "Second reflections; Substrate to Roller:\n"
     ]
    },
    {
     "data": {
      "text/plain": [
       "[27.8971987795571, 8.50606911542513]"
      ]
     },
     "metadata": {},
     "output_type": "display_data"
    },
    {
     "data": {
      "text/plain": [
       "[20.4503464590553, 4.37343613962802]"
      ]
     },
     "metadata": {},
     "output_type": "display_data"
    },
    {
     "data": {
      "text/plain": [
       "[36.1109615101757, 15.4167893507469]"
      ]
     },
     "metadata": {},
     "output_type": "display_data"
    },
    {
     "data": {
      "text/plain": [
       "[33.7762234938861, 13.1331215521160]"
      ]
     },
     "metadata": {},
     "output_type": "display_data"
    },
    {
     "data": {
      "text/plain": [
       "[31.4524263663779, 11.1316983176834]"
      ]
     },
     "metadata": {},
     "output_type": "display_data"
    },
    {
     "name": "stdout",
     "output_type": "stream",
     "text": [
      "\n",
      "Third reflections; Incoming Tape to Substrate:\n",
      "\n",
      "Third reflections; Roller to Substrate:\n"
     ]
    },
    {
     "data": {
      "text/plain": [
       "[37.4594042059735, 0.0]"
      ]
     },
     "metadata": {},
     "output_type": "display_data"
    },
    {
     "data": {
      "text/plain": [
       "[21.4256105096946, 0.0]"
      ]
     },
     "metadata": {},
     "output_type": "display_data"
    },
    {
     "data": {
      "text/plain": [
       "[126.950611245104, 0.0]"
      ]
     },
     "metadata": {},
     "output_type": "display_data"
    },
    {
     "data": {
      "text/plain": [
       "[72.9203749636702, 0.0]"
      ]
     },
     "metadata": {},
     "output_type": "display_data"
    },
    {
     "data": {
      "text/plain": [
       "[53.2945449791157, 0.0]"
      ]
     },
     "metadata": {},
     "output_type": "display_data"
    },
    {
     "name": "stdout",
     "output_type": "stream",
     "text": [
      "\n",
      "Third reflections; Substrate to Incoming Tape:\n"
     ]
    },
    {
     "data": {
      "text/plain": [
       "[73.8363889036204, 57.9206586967062]"
      ]
     },
     "metadata": {},
     "output_type": "display_data"
    },
    {
     "data": {
      "text/plain": [
       "[187.589086903971, 186.250428457620]"
      ]
     },
     "metadata": {},
     "output_type": "display_data"
    },
    {
     "data": {
      "text/plain": [
       "[47.4149153432793, 28.1133514561150]"
      ]
     },
     "metadata": {},
     "output_type": "display_data"
    },
    {
     "name": "stdout",
     "output_type": "stream",
     "text": [
      "\n",
      "Third reflections; Substrate to Roller:\n"
     ]
    },
    {
     "data": {
      "text/plain": [
       "[38.7087491989572, 9.21849836528513]"
      ]
     },
     "metadata": {},
     "output_type": "display_data"
    },
    {
     "data": {
      "text/plain": [
       "[20.0708783189220, 4.20524218311635]"
      ]
     },
     "metadata": {},
     "output_type": "display_data"
    },
    {
     "data": {
      "text/plain": [
       "[12.9289994036071, 1.70050751383066]"
      ]
     },
     "metadata": {},
     "output_type": "display_data"
    },
    {
     "data": {
      "text/plain": [
       "[48.5257127931585, 14.8200030102977]"
      ]
     },
     "metadata": {},
     "output_type": "display_data"
    },
    {
     "data": {
      "text/plain": [
       "[9.34969623478112, 0.881946492991807]"
      ]
     },
     "metadata": {},
     "output_type": "display_data"
    },
    {
     "data": {
      "text/plain": [
       "[24.1063159962539, 6.19491434674790]"
      ]
     },
     "metadata": {},
     "output_type": "display_data"
    },
    {
     "data": {
      "text/plain": [
       "[16.4267981060720, 2.77542690523979]"
      ]
     },
     "metadata": {},
     "output_type": "display_data"
    }
   ],
   "source": [
    "# 1st reflections\n",
    "import reflections\n",
    "from reflections import subs_ref_eqns, roller_ref_eqns, it_ref_eqns, to_subs, subs_to_rol_it\n",
    "\n",
    "subs1_ref = subs_ref_eqns(sid.values(), sid.keys())\n",
    "\n",
    "rol1_eqns = roller_ref_eqns(rol.values(), rol.keys(), k)\n",
    "\n",
    "it1_eqns = it_ref_eqns(tid.values(), tid.keys(), a2, b2, pq)\n",
    "\n",
    "it2subs1_soln = to_subs(it1_eqns) # Reflected from - function name\n",
    "print('\\nFirst reflections; Incoming Tape to Substrate:')\n",
    "for i in it2subs1_soln:\n",
    "    display(i)\n",
    "\n",
    "rol2subs1_soln = to_subs(rol1_eqns)\n",
    "print('\\nFirst reflections; Roller to Substrate:')\n",
    "for i in rol2subs1_soln:\n",
    "    display(i)\n",
    "    \n",
    "subs2it1_eqns, subs2it1_soln, subs2rol1_eqns, subs2rol1_soln = subs_to_rol_it(subs1_ref, a2, b2, pq, k)\n",
    "print('\\nFirst reflections; Substrate to Incoming Tape:')\n",
    "for i in subs2it1_soln:\n",
    "    display(i)\n",
    "print('\\nFirst reflections; Substrate to Roller:')\n",
    "for i in subs2rol1_soln:\n",
    "    display(i) \n",
    "\n",
    "# 2nd reflections\n",
    "all_subs1_coords = rol2subs1_soln + it2subs1_soln\n",
    "all_subs1_eqns = rol1_eqns + it1_eqns\n",
    "\n",
    "subs2_eqns = subs_ref_eqns(all_subs1_coords, all_subs1_eqns)\n",
    "\n",
    "rol2_eqns = roller_ref_eqns(subs2rol1_soln, subs2rol1_eqns, k)\n",
    "\n",
    "it2_eqns = it_ref_eqns(subs2it1_soln, subs2it1_eqns, a2, b2, pq)\n",
    "\n",
    "it2subs2_soln = to_subs(it2_eqns)\n",
    "print('\\nSecond reflections; Incoming Tape to Substrate:')\n",
    "for i in it2subs2_soln:\n",
    "    display(i)\n",
    "\n",
    "rol2subs2_soln = to_subs(rol2_eqns)\n",
    "print('\\nSecond reflections; Roller to Substrate:')\n",
    "for i in rol2subs2_soln:\n",
    "    display(i)\n",
    "    \n",
    "subs2it2_eqns, subs2it2_soln, subs2rol2_eqns, subs2rol2_soln = subs_to_rol_it(subs2_eqns, a2, b2, pq, k)\n",
    "print('\\nSecond reflections; Substrate to Incoming Tape:')\n",
    "for i in subs2it2_soln:\n",
    "    display(i)\n",
    "print('\\nSecond reflections; Substrate to Roller:')\n",
    "for i in subs2rol2_soln:\n",
    "    display(i)\n",
    "    \n",
    "#3rd reflections\n",
    "all_subs2_coords = rol2subs2_soln + it2subs2_soln\n",
    "all_subs2_eqns = rol2_eqns + it2_eqns\n",
    "\n",
    "subs3_ref = subs_ref_eqns(all_subs2_coords, all_subs2_eqns)\n",
    "\n",
    "rol3_eqns = roller_ref_eqns(subs2rol2_soln, subs2rol2_eqns, k)\n",
    "\n",
    "it3_eqns = it_ref_eqns(subs2it2_soln, subs2it2_eqns, a2, b2, pq)\n",
    "\n",
    "it2subs3_soln = to_subs(it3_eqns)\n",
    "print('\\nThird reflections; Incoming Tape to Substrate:')\n",
    "for i in it2subs3_soln:\n",
    "    display(i)\n",
    "\n",
    "rol2subs3_soln = to_subs(rol3_eqns)\n",
    "print('\\nThird reflections; Roller to Substrate:')\n",
    "for i in rol2subs3_soln:\n",
    "    display(i)\n",
    "    \n",
    "subs2it3_eqns, subs2it3_soln, subs2rol3_eqns, subs2rol3_soln = subs_to_rol_it(subs3_ref, a2, b2, pq, k)\n",
    "print('\\nThird reflections; Substrate to Incoming Tape:')\n",
    "for i in subs2it3_soln:\n",
    "    display(i)\n",
    "print('\\nThird reflections; Substrate to Roller:')\n",
    "for i in subs2rol3_soln:\n",
    "    display(i)"
   ]
  },
  {
   "cell_type": "markdown",
   "metadata": {},
   "source": [
    "# Thermal Model Inputs"
   ]
  },
  {
   "cell_type": "code",
   "execution_count": 3,
   "metadata": {
    "scrolled": false
   },
   "outputs": [
    {
     "name": "stdout",
     "output_type": "stream",
     "text": [
      "Contact length of Roller and Incoming Tape is: 42.2770428599861\n"
     ]
    }
   ],
   "source": [
    "import thermal_model\n",
    "from thermal_model import calc_subs_heat_flux, calc_it_heat_flux, calc_roller_heat_flux, export_heat_flux\n",
    "import pandas as pd\n",
    "\n",
    "# Contact length of Roller and Incoming-Tape:\n",
    "c = [0, -k]\n",
    "c = np.array(c, dtype = np.float64)\n",
    "\n",
    "d = [pq[0], pq[1] - k]\n",
    "d = np.array(d, dtype = np.float64)\n",
    "\n",
    "l33 = np.dot(c,d)\n",
    "\n",
    "mod_c = np.linalg.norm(c)\n",
    "\n",
    "mod_d = np.linalg.norm(d)\n",
    "\n",
    "arc_angle = sp.acos(l33/(mod_c * mod_d))\n",
    "\n",
    "arc_length = k * arc_angle\n",
    "\n",
    "print('Contact length of Roller and Incoming Tape is:',arc_length)\n",
    "\n",
    "# Length of Shadow Regions:\n",
    "# Substrate:\n",
    "\n",
    "subs_x0 = list()\n",
    "for i in sid.values():\n",
    "    subs_x0.append(i[0])\n",
    "\n",
    "rol2subs_x1 = list()\n",
    "for i in rol2subs1_soln:\n",
    "    rol2subs_x1.append(i[0])\n",
    "\n",
    "it2subs_x1 = list()\n",
    "for i in it2subs1_soln:\n",
    "    it2subs_x1.append(i[0])\n",
    "    \n",
    "if not subs_x0 + rol2subs_x1 + it2subs_x1:\n",
    "    print('No Clear Hits on Substrate')\n",
    "else:\n",
    "    subs_shadow_point = min(subs_x0 + rol2subs_x1 + it2subs_x1)\n",
    "    subs_shadow_length = subs_shadow_point\n",
    "    \n",
    "# Roller:\n",
    "\n",
    "roller_x = list()\n",
    "roller_y = list()\n",
    "for i in rol.values():\n",
    "    roller_x.append(i[0])\n",
    "    roller_y.append(i[1])\n",
    "\n",
    "subs2rol1_x = list()\n",
    "subs2rol1_y = list()\n",
    "for i in subs2rol1_soln:\n",
    "    subs2rol1_x.append(i[0])\n",
    "    subs2rol1_y.append(i[1])\n",
    "    \n",
    "if not roller_x + subs2rol1_x and not roller_y + subs2rol1_y:\n",
    "    roller_shadow_length = ''\n",
    "    print('No clear hits on Roller')\n",
    "else:\n",
    "    roller_shadow_x = min(roller_x + subs2rol1_x)\n",
    "    roller_shadow_y = min(roller_y + subs2rol1_y)\n",
    "    roller_shadow_point = (roller_shadow_x, roller_shadow_y)\n",
    "    e = [0, -k]\n",
    "    e = np.array(e, dtype = np.float64)\n",
    "    \n",
    "    f = [roller_shadow_point[0], roller_shadow_point[1] - k]\n",
    "    f = np.array(f, dtype = np.float64)\n",
    "    \n",
    "    l34 = np.dot(e,f)\n",
    "\n",
    "    mod_e = np.linalg.norm(e)\n",
    "    mod_f = np.linalg.norm(f)\n",
    "\n",
    "    shadow_arc_angle = sp.acos(l34/(mod_e * mod_f))\n",
    "\n",
    "    roller_shadow_length = k * shadow_arc_angle\n",
    "\n",
    "\n",
    "# Data Export (Length of Shadow Regions and Contact Length):\n",
    "\n",
    "with open('Parameters.txt', 'w') as f:\n",
    "    print('subs_shadow_length',f'\"{subs_shadow_length} [mm]\"', '\"Length of Shadow Region on Substrate\"', file = f)\n",
    "    print('\\nroller_shadow_length',f'\"{roller_shadow_length} [mm]\"', '\"Length of Shadow Region on Roller\"', file = f)\n",
    "    print('\\narc_length',f'\"{arc_length} [mm]\"','\"Contact Length of Incoming Tape on Roller\"', file = f)\n",
    "\n",
    "\n",
    "# Heat Flux:\n",
    "\n",
    "# incidence: Substrate\n",
    "subs0 = list(sid.values())\n",
    "cd0_subs, subs0_x1, subs0_x2 = calc_subs_heat_flux(1, 120, subs0, n) #(element size, final value, compound list of solution-coordinates)\n",
    "\n",
    "# incidence: Incoming Tape:\n",
    "it0 = list(tid.values())\n",
    "cd0_it, it0_x1, it0_y1, it0_x2, it0_y2 = calc_it_heat_flux(1, it0, a2, b2, pq, n) #(Element length, compound list of solution-coordinates)\n",
    "\n",
    "# incidence: Roller\n",
    "rol0 = list(rol.values())\n",
    "cd0_rol, rol0_x1, rol0_y1, rol0_x2, rol0_y2 = calc_roller_heat_flux(1, rol0, k, arc_length, arc_angle, n) ##(Element length, compound list of solution-coordinates)\n",
    "\n",
    "# 1st reflection: Incoming Tape to Substrate\n",
    "cd1_it2subs, it2subs1_x1, it2subs1_x2 = calc_subs_heat_flux(1, 120 , it2subs1_soln, n)\n",
    "\n",
    "# 1st reflction: Roller to Substrate\n",
    "cd1_rol2subs, rol2subs1_x1, rol2subs1_x2 = calc_subs_heat_flux(1, 120, rol2subs1_soln, n)\n",
    "\n",
    "# 1st reflection: Incoming Tape\n",
    "cd1_it, it1_x1, it1_y1, it1_x2, it1_y2 = calc_it_heat_flux(1, subs2it1_soln, a2, b2, pq, n)\n",
    "\n",
    "# 1st reflection: Roller\n",
    "cd1_rol, rol1_x1, rol1_y1, rol1_x2, rol1_y2 = calc_roller_heat_flux(1, subs2rol1_soln, k, arc_length, arc_angle, n)\n",
    "\n",
    "# # 2nd reflection: Incoming Tape to Substrate\n",
    "# cd2_it2subs, it2subs2_x1, it2subs2_x2 = calc_subs_heat_flux(1, 5, it2subs2_soln, n)\n",
    "\n",
    "# # 2nd reflection: Roller to Substrate\n",
    "# cd2_rol2subs, rol2subs2_x1, rol2subs2_x2 = calc_subs_heat_flux(1, 5, rol2subs2_soln, n)\n",
    "\n",
    "# # 2nd reflection: Incoming Tape\n",
    "# cd2_it, it2_x1, it2_y1, it2_x2, it2_y2 = calc_it_heat_flux(1, subs2it2_soln, a2, b2, pq, n)\n",
    "\n",
    "# # 2nd reflection: Roller\n",
    "# cd2_rol, rol2_x1, rol2_y1, rol2_x2, rol2_y2 = calc_roller_heat_flux(1, subs2rol2_soln, k, arc_length, arc_angle, n)\n",
    "\n",
    "# # 3rd reflection: Incoming Tape to Substrate\n",
    "# cd3_it2subs, it2subs3_x1, it2subs3_x2 = calc_subs_heat_flux(1, 5, it2subs3_soln, n)\n",
    "\n",
    "# # 3rd reflection: Roller to Substrate\n",
    "# cd3_rol2subs, rol2subs3_x1, rol2subs3_x2 = calc_subs_heat_flux(1, 5, rol2subs3_soln, n)\n",
    "\n",
    "# # 3rd reflection: Incoming Tape\n",
    "# cd3_it, it3_x1, it3_y1, it3_x2, it3_y2 = calc_it_heat_flux(1, subs2it3_soln, a2, b2, pq, n)\n",
    "\n",
    "# # 3rd reflection: Roller\n",
    "# cd3_rol, rol3_x1, rol3_y1, rol3_x2, rol3_y2 = calc_roller_heat_flux(1, subs2rol3_soln, k, arc_length, arc_angle, n)\n",
    "\n",
    "\n",
    "# Data Export (Heat Flux):\n",
    "\n",
    "# Incidence: Substrate\n",
    "df_subs0 = pd.DataFrame()\n",
    "export_heat_flux(df_subs0, subs0_x1, 0, subs0_x2, 0, cd0_subs, 'Substrate_Incidence.csv')\n",
    "\n",
    "# Incidence: Incoming Tape\n",
    "df_it0 = pd.DataFrame()\n",
    "export_heat_flux(df_it0, it0_x1, it0_y1, it0_x2, it0_y2, cd0_it, 'Incoming_Tape_Incidence.csv')\n",
    "\n",
    "# Incidence: Roller\n",
    "df_rol0 = pd.DataFrame()\n",
    "export_heat_flux(df_rol0, rol0_x1, rol0_y1, rol0_x2, rol0_y2, cd0_rol, 'Roller_Incidence.csv')\n",
    "\n",
    "# 1st Reflection: Incoming Tape to Substrate\n",
    "df_it2subs1 = pd.DataFrame()\n",
    "export_heat_flux(df_it2subs1, it2subs1_x1, 0, it2subs1_x2, 0, cd1_it2subs, 'Incoming_Tape_to_Substrate_1st_Reflection.csv')\n",
    "\n",
    "# 1st Reflection: Roller to Substrate\n",
    "df_rol2subs1 = pd.DataFrame()\n",
    "export_heat_flux(df_rol2subs1, rol2subs1_x1, 0, rol2subs1_x2, 0, cd1_rol2subs, 'Roller_to_Substrate_1st_Reflection.csv')\n",
    "\n",
    "# 1st Reflection: Incoming Tape\n",
    "df_it1 = pd.DataFrame()\n",
    "export_heat_flux(df_it1, it1_x1, it1_y1, it1_x2, it1_y2, cd1_it, 'Incoming_Tape_1st_Reflection.csv')\n",
    "\n",
    "# 1st Reflection: Roller\n",
    "df_rol1 = pd.DataFrame()\n",
    "export_heat_flux(df_rol1, rol1_x1, rol1_y1, rol1_x2, rol1_y2, cd1_rol, 'Roller_1st_Reflection.csv')\n",
    "\n",
    "# # 2nd Reflection: Incoming Tape to Substrate\n",
    "# df_it2subs2 = pd.DataFrame()\n",
    "# export_heat_flux(df_it2subs2, it2subs2_x1, 0, it2subs2_x2, 0, cd2_it2subs, 'Incoming_Tape_to_Substrate_2nd_Reflection.csv')\n",
    "\n",
    "# # 2nd Reflection: Roller to Substrate\n",
    "# df_rol2subs2 = pd.DataFrame()\n",
    "# export_heat_flux(df_rol2subs2, rol2subs2_x1, 0, rol2subs2_x2, 0, cd2_rol2subs, 'Roller_to_Substrate_2nd_Reflection.csv')\n",
    "\n",
    "# # 2nd Reflection: Incoming Tape\n",
    "# df_it2 = pd.DataFrame()\n",
    "# export_heat_flux(df_it2, it2_x1, it2_y1, it2_x2, it2_y2, cd2_it, 'Incoming_Tape_2nd_Reflection.csv')\n",
    " \n",
    "# # 2nd Reflection: Roller\n",
    "# df_rol2 = pd.DataFrame()\n",
    "# export_heat_flux(df_rol2, rol2_x1, rol2_y1, rol2_x2, rol2_y2, cd2_rol, 'Roller_2nd_Reflection.csv')\n",
    "\n",
    "# # 3rd Reflection: Incoming Tape to Substrate\n",
    "# df_it2subs3 = pd.DataFrame()\n",
    "# export_heat_flux(df_it2subs3, it2subs3_x1, 0, it2subs3_x2, 0, cd3_it2subs, 'Incoming_Tape_to_Substrate_3rd_Reflection.csv')\n",
    "\n",
    "# # 3rd Reflection: Roller to Substrate\n",
    "# df_rol2subs3 = pd.DataFrame()\n",
    "# export_heat_flux(df_rol2subs3, rol2subs3_x1, 0, rol2subs3_x2, 0, cd3_rol2subs, 'Roller_to_Substrate_3rd_Reflection.csv')\n",
    "\n",
    "# # 3rd Reflection: Incoming Tape\n",
    "# df_it3 = pd.DataFrame()\n",
    "# export_heat_flux(df_it3, it3_x1, it3_y1, it3_x2, it3_y2, cd3_it, 'Incoming_Tape_3rd_Reflection.csv')\n",
    "\n",
    "# # 3rd Reflection: Roller\n",
    "# df_rol3 = pd.DataFrame()\n",
    "# export_heat_flux(df_rol3, rol3_x1, rol3_y1, rol3_x2, rol3_y2, cd3_rol, 'Roller_3rd_Reflection.csv')\n",
    "\n",
    "# df_subs0 = pd.DataFrame({\n",
    "#             'X1': subs0_x1,\n",
    "#             'Y1': 0,\n",
    "#             'X2': subs0_x2,\n",
    "#             'Y2': 0,\n",
    "#             'Heat Flux': cd0_subs\n",
    "#         })\n",
    "# writer = pd.ExcelWriter('Substrate_Incidence.xlsx', engine = 'xlsxwriter')\n",
    "# df_subs0.to_excel(writer, sheet_name='Substrate Incidence')\n",
    "# writer.save()\n",
    "\n",
    "# Incoming Tape (Incidence)\n",
    "# df_it0 = pd.DataFrame({\n",
    "#     'X1': it0_x1,\n",
    "#     'Y1': it0_y1,\n",
    "#     'X2': it0_x2,\n",
    "#     'Y2': it0_y2,\n",
    "#     'Heat Flux': cd0_it\n",
    "# })\n",
    "# writer = pd.ExcelWriter('Incoming_Tape_Incidence.xlsx', engine = 'xlsxwriter')\n",
    "# df_it0.to_excel(writer, sheet_name = 'Incoming Tape Incidence')\n",
    "# writer.save()"
   ]
  },
  {
   "cell_type": "markdown",
   "metadata": {},
   "source": [
    "# Plotting of Optical Diagram"
   ]
  },
  {
   "cell_type": "code",
   "execution_count": 4,
   "metadata": {
    "scrolled": false
   },
   "outputs": [
    {
     "data": {
      "application/javascript": [
       "/* Put everything inside the global mpl namespace */\n",
       "/* global mpl */\n",
       "window.mpl = {};\n",
       "\n",
       "mpl.get_websocket_type = function () {\n",
       "    if (typeof WebSocket !== 'undefined') {\n",
       "        return WebSocket;\n",
       "    } else if (typeof MozWebSocket !== 'undefined') {\n",
       "        return MozWebSocket;\n",
       "    } else {\n",
       "        alert(\n",
       "            'Your browser does not have WebSocket support. ' +\n",
       "                'Please try Chrome, Safari or Firefox ≥ 6. ' +\n",
       "                'Firefox 4 and 5 are also supported but you ' +\n",
       "                'have to enable WebSockets in about:config.'\n",
       "        );\n",
       "    }\n",
       "};\n",
       "\n",
       "mpl.figure = function (figure_id, websocket, ondownload, parent_element) {\n",
       "    this.id = figure_id;\n",
       "\n",
       "    this.ws = websocket;\n",
       "\n",
       "    this.supports_binary = this.ws.binaryType !== undefined;\n",
       "\n",
       "    if (!this.supports_binary) {\n",
       "        var warnings = document.getElementById('mpl-warnings');\n",
       "        if (warnings) {\n",
       "            warnings.style.display = 'block';\n",
       "            warnings.textContent =\n",
       "                'This browser does not support binary websocket messages. ' +\n",
       "                'Performance may be slow.';\n",
       "        }\n",
       "    }\n",
       "\n",
       "    this.imageObj = new Image();\n",
       "\n",
       "    this.context = undefined;\n",
       "    this.message = undefined;\n",
       "    this.canvas = undefined;\n",
       "    this.rubberband_canvas = undefined;\n",
       "    this.rubberband_context = undefined;\n",
       "    this.format_dropdown = undefined;\n",
       "\n",
       "    this.image_mode = 'full';\n",
       "\n",
       "    this.root = document.createElement('div');\n",
       "    this.root.setAttribute('style', 'display: inline-block');\n",
       "    this._root_extra_style(this.root);\n",
       "\n",
       "    parent_element.appendChild(this.root);\n",
       "\n",
       "    this._init_header(this);\n",
       "    this._init_canvas(this);\n",
       "    this._init_toolbar(this);\n",
       "\n",
       "    var fig = this;\n",
       "\n",
       "    this.waiting = false;\n",
       "\n",
       "    this.ws.onopen = function () {\n",
       "        fig.send_message('supports_binary', { value: fig.supports_binary });\n",
       "        fig.send_message('send_image_mode', {});\n",
       "        if (fig.ratio !== 1) {\n",
       "            fig.send_message('set_dpi_ratio', { dpi_ratio: fig.ratio });\n",
       "        }\n",
       "        fig.send_message('refresh', {});\n",
       "    };\n",
       "\n",
       "    this.imageObj.onload = function () {\n",
       "        if (fig.image_mode === 'full') {\n",
       "            // Full images could contain transparency (where diff images\n",
       "            // almost always do), so we need to clear the canvas so that\n",
       "            // there is no ghosting.\n",
       "            fig.context.clearRect(0, 0, fig.canvas.width, fig.canvas.height);\n",
       "        }\n",
       "        fig.context.drawImage(fig.imageObj, 0, 0);\n",
       "    };\n",
       "\n",
       "    this.imageObj.onunload = function () {\n",
       "        fig.ws.close();\n",
       "    };\n",
       "\n",
       "    this.ws.onmessage = this._make_on_message_function(this);\n",
       "\n",
       "    this.ondownload = ondownload;\n",
       "};\n",
       "\n",
       "mpl.figure.prototype._init_header = function () {\n",
       "    var titlebar = document.createElement('div');\n",
       "    titlebar.classList =\n",
       "        'ui-dialog-titlebar ui-widget-header ui-corner-all ui-helper-clearfix';\n",
       "    var titletext = document.createElement('div');\n",
       "    titletext.classList = 'ui-dialog-title';\n",
       "    titletext.setAttribute(\n",
       "        'style',\n",
       "        'width: 100%; text-align: center; padding: 3px;'\n",
       "    );\n",
       "    titlebar.appendChild(titletext);\n",
       "    this.root.appendChild(titlebar);\n",
       "    this.header = titletext;\n",
       "};\n",
       "\n",
       "mpl.figure.prototype._canvas_extra_style = function (_canvas_div) {};\n",
       "\n",
       "mpl.figure.prototype._root_extra_style = function (_canvas_div) {};\n",
       "\n",
       "mpl.figure.prototype._init_canvas = function () {\n",
       "    var fig = this;\n",
       "\n",
       "    var canvas_div = (this.canvas_div = document.createElement('div'));\n",
       "    canvas_div.setAttribute(\n",
       "        'style',\n",
       "        'border: 1px solid #ddd;' +\n",
       "            'box-sizing: content-box;' +\n",
       "            'clear: both;' +\n",
       "            'min-height: 1px;' +\n",
       "            'min-width: 1px;' +\n",
       "            'outline: 0;' +\n",
       "            'overflow: hidden;' +\n",
       "            'position: relative;' +\n",
       "            'resize: both;'\n",
       "    );\n",
       "\n",
       "    function on_keyboard_event_closure(name) {\n",
       "        return function (event) {\n",
       "            return fig.key_event(event, name);\n",
       "        };\n",
       "    }\n",
       "\n",
       "    canvas_div.addEventListener(\n",
       "        'keydown',\n",
       "        on_keyboard_event_closure('key_press')\n",
       "    );\n",
       "    canvas_div.addEventListener(\n",
       "        'keyup',\n",
       "        on_keyboard_event_closure('key_release')\n",
       "    );\n",
       "\n",
       "    this._canvas_extra_style(canvas_div);\n",
       "    this.root.appendChild(canvas_div);\n",
       "\n",
       "    var canvas = (this.canvas = document.createElement('canvas'));\n",
       "    canvas.classList.add('mpl-canvas');\n",
       "    canvas.setAttribute('style', 'box-sizing: content-box;');\n",
       "\n",
       "    this.context = canvas.getContext('2d');\n",
       "\n",
       "    var backingStore =\n",
       "        this.context.backingStorePixelRatio ||\n",
       "        this.context.webkitBackingStorePixelRatio ||\n",
       "        this.context.mozBackingStorePixelRatio ||\n",
       "        this.context.msBackingStorePixelRatio ||\n",
       "        this.context.oBackingStorePixelRatio ||\n",
       "        this.context.backingStorePixelRatio ||\n",
       "        1;\n",
       "\n",
       "    this.ratio = (window.devicePixelRatio || 1) / backingStore;\n",
       "    if (this.ratio !== 1) {\n",
       "        fig.send_message('set_dpi_ratio', { dpi_ratio: this.ratio });\n",
       "    }\n",
       "\n",
       "    var rubberband_canvas = (this.rubberband_canvas = document.createElement(\n",
       "        'canvas'\n",
       "    ));\n",
       "    rubberband_canvas.setAttribute(\n",
       "        'style',\n",
       "        'box-sizing: content-box; position: absolute; left: 0; top: 0; z-index: 1;'\n",
       "    );\n",
       "\n",
       "    var resizeObserver = new ResizeObserver(function (entries) {\n",
       "        var nentries = entries.length;\n",
       "        for (var i = 0; i < nentries; i++) {\n",
       "            var entry = entries[i];\n",
       "            var width, height;\n",
       "            if (entry.contentBoxSize) {\n",
       "                if (entry.contentBoxSize instanceof Array) {\n",
       "                    // Chrome 84 implements new version of spec.\n",
       "                    width = entry.contentBoxSize[0].inlineSize;\n",
       "                    height = entry.contentBoxSize[0].blockSize;\n",
       "                } else {\n",
       "                    // Firefox implements old version of spec.\n",
       "                    width = entry.contentBoxSize.inlineSize;\n",
       "                    height = entry.contentBoxSize.blockSize;\n",
       "                }\n",
       "            } else {\n",
       "                // Chrome <84 implements even older version of spec.\n",
       "                width = entry.contentRect.width;\n",
       "                height = entry.contentRect.height;\n",
       "            }\n",
       "\n",
       "            // Keep the size of the canvas and rubber band canvas in sync with\n",
       "            // the canvas container.\n",
       "            if (entry.devicePixelContentBoxSize) {\n",
       "                // Chrome 84 implements new version of spec.\n",
       "                canvas.setAttribute(\n",
       "                    'width',\n",
       "                    entry.devicePixelContentBoxSize[0].inlineSize\n",
       "                );\n",
       "                canvas.setAttribute(\n",
       "                    'height',\n",
       "                    entry.devicePixelContentBoxSize[0].blockSize\n",
       "                );\n",
       "            } else {\n",
       "                canvas.setAttribute('width', width * fig.ratio);\n",
       "                canvas.setAttribute('height', height * fig.ratio);\n",
       "            }\n",
       "            canvas.setAttribute(\n",
       "                'style',\n",
       "                'width: ' + width + 'px; height: ' + height + 'px;'\n",
       "            );\n",
       "\n",
       "            rubberband_canvas.setAttribute('width', width);\n",
       "            rubberband_canvas.setAttribute('height', height);\n",
       "\n",
       "            // And update the size in Python. We ignore the initial 0/0 size\n",
       "            // that occurs as the element is placed into the DOM, which should\n",
       "            // otherwise not happen due to the minimum size styling.\n",
       "            if (width != 0 && height != 0) {\n",
       "                fig.request_resize(width, height);\n",
       "            }\n",
       "        }\n",
       "    });\n",
       "    resizeObserver.observe(canvas_div);\n",
       "\n",
       "    function on_mouse_event_closure(name) {\n",
       "        return function (event) {\n",
       "            return fig.mouse_event(event, name);\n",
       "        };\n",
       "    }\n",
       "\n",
       "    rubberband_canvas.addEventListener(\n",
       "        'mousedown',\n",
       "        on_mouse_event_closure('button_press')\n",
       "    );\n",
       "    rubberband_canvas.addEventListener(\n",
       "        'mouseup',\n",
       "        on_mouse_event_closure('button_release')\n",
       "    );\n",
       "    // Throttle sequential mouse events to 1 every 20ms.\n",
       "    rubberband_canvas.addEventListener(\n",
       "        'mousemove',\n",
       "        on_mouse_event_closure('motion_notify')\n",
       "    );\n",
       "\n",
       "    rubberband_canvas.addEventListener(\n",
       "        'mouseenter',\n",
       "        on_mouse_event_closure('figure_enter')\n",
       "    );\n",
       "    rubberband_canvas.addEventListener(\n",
       "        'mouseleave',\n",
       "        on_mouse_event_closure('figure_leave')\n",
       "    );\n",
       "\n",
       "    canvas_div.addEventListener('wheel', function (event) {\n",
       "        if (event.deltaY < 0) {\n",
       "            event.step = 1;\n",
       "        } else {\n",
       "            event.step = -1;\n",
       "        }\n",
       "        on_mouse_event_closure('scroll')(event);\n",
       "    });\n",
       "\n",
       "    canvas_div.appendChild(canvas);\n",
       "    canvas_div.appendChild(rubberband_canvas);\n",
       "\n",
       "    this.rubberband_context = rubberband_canvas.getContext('2d');\n",
       "    this.rubberband_context.strokeStyle = '#000000';\n",
       "\n",
       "    this._resize_canvas = function (width, height, forward) {\n",
       "        if (forward) {\n",
       "            canvas_div.style.width = width + 'px';\n",
       "            canvas_div.style.height = height + 'px';\n",
       "        }\n",
       "    };\n",
       "\n",
       "    // Disable right mouse context menu.\n",
       "    this.rubberband_canvas.addEventListener('contextmenu', function (_e) {\n",
       "        event.preventDefault();\n",
       "        return false;\n",
       "    });\n",
       "\n",
       "    function set_focus() {\n",
       "        canvas.focus();\n",
       "        canvas_div.focus();\n",
       "    }\n",
       "\n",
       "    window.setTimeout(set_focus, 100);\n",
       "};\n",
       "\n",
       "mpl.figure.prototype._init_toolbar = function () {\n",
       "    var fig = this;\n",
       "\n",
       "    var toolbar = document.createElement('div');\n",
       "    toolbar.classList = 'mpl-toolbar';\n",
       "    this.root.appendChild(toolbar);\n",
       "\n",
       "    function on_click_closure(name) {\n",
       "        return function (_event) {\n",
       "            return fig.toolbar_button_onclick(name);\n",
       "        };\n",
       "    }\n",
       "\n",
       "    function on_mouseover_closure(tooltip) {\n",
       "        return function (event) {\n",
       "            if (!event.currentTarget.disabled) {\n",
       "                return fig.toolbar_button_onmouseover(tooltip);\n",
       "            }\n",
       "        };\n",
       "    }\n",
       "\n",
       "    fig.buttons = {};\n",
       "    var buttonGroup = document.createElement('div');\n",
       "    buttonGroup.classList = 'mpl-button-group';\n",
       "    for (var toolbar_ind in mpl.toolbar_items) {\n",
       "        var name = mpl.toolbar_items[toolbar_ind][0];\n",
       "        var tooltip = mpl.toolbar_items[toolbar_ind][1];\n",
       "        var image = mpl.toolbar_items[toolbar_ind][2];\n",
       "        var method_name = mpl.toolbar_items[toolbar_ind][3];\n",
       "\n",
       "        if (!name) {\n",
       "            /* Instead of a spacer, we start a new button group. */\n",
       "            if (buttonGroup.hasChildNodes()) {\n",
       "                toolbar.appendChild(buttonGroup);\n",
       "            }\n",
       "            buttonGroup = document.createElement('div');\n",
       "            buttonGroup.classList = 'mpl-button-group';\n",
       "            continue;\n",
       "        }\n",
       "\n",
       "        var button = (fig.buttons[name] = document.createElement('button'));\n",
       "        button.classList = 'mpl-widget';\n",
       "        button.setAttribute('role', 'button');\n",
       "        button.setAttribute('aria-disabled', 'false');\n",
       "        button.addEventListener('click', on_click_closure(method_name));\n",
       "        button.addEventListener('mouseover', on_mouseover_closure(tooltip));\n",
       "\n",
       "        var icon_img = document.createElement('img');\n",
       "        icon_img.src = '_images/' + image + '.png';\n",
       "        icon_img.srcset = '_images/' + image + '_large.png 2x';\n",
       "        icon_img.alt = tooltip;\n",
       "        button.appendChild(icon_img);\n",
       "\n",
       "        buttonGroup.appendChild(button);\n",
       "    }\n",
       "\n",
       "    if (buttonGroup.hasChildNodes()) {\n",
       "        toolbar.appendChild(buttonGroup);\n",
       "    }\n",
       "\n",
       "    var fmt_picker = document.createElement('select');\n",
       "    fmt_picker.classList = 'mpl-widget';\n",
       "    toolbar.appendChild(fmt_picker);\n",
       "    this.format_dropdown = fmt_picker;\n",
       "\n",
       "    for (var ind in mpl.extensions) {\n",
       "        var fmt = mpl.extensions[ind];\n",
       "        var option = document.createElement('option');\n",
       "        option.selected = fmt === mpl.default_extension;\n",
       "        option.innerHTML = fmt;\n",
       "        fmt_picker.appendChild(option);\n",
       "    }\n",
       "\n",
       "    var status_bar = document.createElement('span');\n",
       "    status_bar.classList = 'mpl-message';\n",
       "    toolbar.appendChild(status_bar);\n",
       "    this.message = status_bar;\n",
       "};\n",
       "\n",
       "mpl.figure.prototype.request_resize = function (x_pixels, y_pixels) {\n",
       "    // Request matplotlib to resize the figure. Matplotlib will then trigger a resize in the client,\n",
       "    // which will in turn request a refresh of the image.\n",
       "    this.send_message('resize', { width: x_pixels, height: y_pixels });\n",
       "};\n",
       "\n",
       "mpl.figure.prototype.send_message = function (type, properties) {\n",
       "    properties['type'] = type;\n",
       "    properties['figure_id'] = this.id;\n",
       "    this.ws.send(JSON.stringify(properties));\n",
       "};\n",
       "\n",
       "mpl.figure.prototype.send_draw_message = function () {\n",
       "    if (!this.waiting) {\n",
       "        this.waiting = true;\n",
       "        this.ws.send(JSON.stringify({ type: 'draw', figure_id: this.id }));\n",
       "    }\n",
       "};\n",
       "\n",
       "mpl.figure.prototype.handle_save = function (fig, _msg) {\n",
       "    var format_dropdown = fig.format_dropdown;\n",
       "    var format = format_dropdown.options[format_dropdown.selectedIndex].value;\n",
       "    fig.ondownload(fig, format);\n",
       "};\n",
       "\n",
       "mpl.figure.prototype.handle_resize = function (fig, msg) {\n",
       "    var size = msg['size'];\n",
       "    if (size[0] !== fig.canvas.width || size[1] !== fig.canvas.height) {\n",
       "        fig._resize_canvas(size[0], size[1], msg['forward']);\n",
       "        fig.send_message('refresh', {});\n",
       "    }\n",
       "};\n",
       "\n",
       "mpl.figure.prototype.handle_rubberband = function (fig, msg) {\n",
       "    var x0 = msg['x0'] / fig.ratio;\n",
       "    var y0 = (fig.canvas.height - msg['y0']) / fig.ratio;\n",
       "    var x1 = msg['x1'] / fig.ratio;\n",
       "    var y1 = (fig.canvas.height - msg['y1']) / fig.ratio;\n",
       "    x0 = Math.floor(x0) + 0.5;\n",
       "    y0 = Math.floor(y0) + 0.5;\n",
       "    x1 = Math.floor(x1) + 0.5;\n",
       "    y1 = Math.floor(y1) + 0.5;\n",
       "    var min_x = Math.min(x0, x1);\n",
       "    var min_y = Math.min(y0, y1);\n",
       "    var width = Math.abs(x1 - x0);\n",
       "    var height = Math.abs(y1 - y0);\n",
       "\n",
       "    fig.rubberband_context.clearRect(\n",
       "        0,\n",
       "        0,\n",
       "        fig.canvas.width / fig.ratio,\n",
       "        fig.canvas.height / fig.ratio\n",
       "    );\n",
       "\n",
       "    fig.rubberband_context.strokeRect(min_x, min_y, width, height);\n",
       "};\n",
       "\n",
       "mpl.figure.prototype.handle_figure_label = function (fig, msg) {\n",
       "    // Updates the figure title.\n",
       "    fig.header.textContent = msg['label'];\n",
       "};\n",
       "\n",
       "mpl.figure.prototype.handle_cursor = function (fig, msg) {\n",
       "    var cursor = msg['cursor'];\n",
       "    switch (cursor) {\n",
       "        case 0:\n",
       "            cursor = 'pointer';\n",
       "            break;\n",
       "        case 1:\n",
       "            cursor = 'default';\n",
       "            break;\n",
       "        case 2:\n",
       "            cursor = 'crosshair';\n",
       "            break;\n",
       "        case 3:\n",
       "            cursor = 'move';\n",
       "            break;\n",
       "    }\n",
       "    fig.rubberband_canvas.style.cursor = cursor;\n",
       "};\n",
       "\n",
       "mpl.figure.prototype.handle_message = function (fig, msg) {\n",
       "    fig.message.textContent = msg['message'];\n",
       "};\n",
       "\n",
       "mpl.figure.prototype.handle_draw = function (fig, _msg) {\n",
       "    // Request the server to send over a new figure.\n",
       "    fig.send_draw_message();\n",
       "};\n",
       "\n",
       "mpl.figure.prototype.handle_image_mode = function (fig, msg) {\n",
       "    fig.image_mode = msg['mode'];\n",
       "};\n",
       "\n",
       "mpl.figure.prototype.handle_history_buttons = function (fig, msg) {\n",
       "    for (var key in msg) {\n",
       "        if (!(key in fig.buttons)) {\n",
       "            continue;\n",
       "        }\n",
       "        fig.buttons[key].disabled = !msg[key];\n",
       "        fig.buttons[key].setAttribute('aria-disabled', !msg[key]);\n",
       "    }\n",
       "};\n",
       "\n",
       "mpl.figure.prototype.handle_navigate_mode = function (fig, msg) {\n",
       "    if (msg['mode'] === 'PAN') {\n",
       "        fig.buttons['Pan'].classList.add('active');\n",
       "        fig.buttons['Zoom'].classList.remove('active');\n",
       "    } else if (msg['mode'] === 'ZOOM') {\n",
       "        fig.buttons['Pan'].classList.remove('active');\n",
       "        fig.buttons['Zoom'].classList.add('active');\n",
       "    } else {\n",
       "        fig.buttons['Pan'].classList.remove('active');\n",
       "        fig.buttons['Zoom'].classList.remove('active');\n",
       "    }\n",
       "};\n",
       "\n",
       "mpl.figure.prototype.updated_canvas_event = function () {\n",
       "    // Called whenever the canvas gets updated.\n",
       "    this.send_message('ack', {});\n",
       "};\n",
       "\n",
       "// A function to construct a web socket function for onmessage handling.\n",
       "// Called in the figure constructor.\n",
       "mpl.figure.prototype._make_on_message_function = function (fig) {\n",
       "    return function socket_on_message(evt) {\n",
       "        if (evt.data instanceof Blob) {\n",
       "            /* FIXME: We get \"Resource interpreted as Image but\n",
       "             * transferred with MIME type text/plain:\" errors on\n",
       "             * Chrome.  But how to set the MIME type?  It doesn't seem\n",
       "             * to be part of the websocket stream */\n",
       "            evt.data.type = 'image/png';\n",
       "\n",
       "            /* Free the memory for the previous frames */\n",
       "            if (fig.imageObj.src) {\n",
       "                (window.URL || window.webkitURL).revokeObjectURL(\n",
       "                    fig.imageObj.src\n",
       "                );\n",
       "            }\n",
       "\n",
       "            fig.imageObj.src = (window.URL || window.webkitURL).createObjectURL(\n",
       "                evt.data\n",
       "            );\n",
       "            fig.updated_canvas_event();\n",
       "            fig.waiting = false;\n",
       "            return;\n",
       "        } else if (\n",
       "            typeof evt.data === 'string' &&\n",
       "            evt.data.slice(0, 21) === 'data:image/png;base64'\n",
       "        ) {\n",
       "            fig.imageObj.src = evt.data;\n",
       "            fig.updated_canvas_event();\n",
       "            fig.waiting = false;\n",
       "            return;\n",
       "        }\n",
       "\n",
       "        var msg = JSON.parse(evt.data);\n",
       "        var msg_type = msg['type'];\n",
       "\n",
       "        // Call the  \"handle_{type}\" callback, which takes\n",
       "        // the figure and JSON message as its only arguments.\n",
       "        try {\n",
       "            var callback = fig['handle_' + msg_type];\n",
       "        } catch (e) {\n",
       "            console.log(\n",
       "                \"No handler for the '\" + msg_type + \"' message type: \",\n",
       "                msg\n",
       "            );\n",
       "            return;\n",
       "        }\n",
       "\n",
       "        if (callback) {\n",
       "            try {\n",
       "                // console.log(\"Handling '\" + msg_type + \"' message: \", msg);\n",
       "                callback(fig, msg);\n",
       "            } catch (e) {\n",
       "                console.log(\n",
       "                    \"Exception inside the 'handler_\" + msg_type + \"' callback:\",\n",
       "                    e,\n",
       "                    e.stack,\n",
       "                    msg\n",
       "                );\n",
       "            }\n",
       "        }\n",
       "    };\n",
       "};\n",
       "\n",
       "// from http://stackoverflow.com/questions/1114465/getting-mouse-location-in-canvas\n",
       "mpl.findpos = function (e) {\n",
       "    //this section is from http://www.quirksmode.org/js/events_properties.html\n",
       "    var targ;\n",
       "    if (!e) {\n",
       "        e = window.event;\n",
       "    }\n",
       "    if (e.target) {\n",
       "        targ = e.target;\n",
       "    } else if (e.srcElement) {\n",
       "        targ = e.srcElement;\n",
       "    }\n",
       "    if (targ.nodeType === 3) {\n",
       "        // defeat Safari bug\n",
       "        targ = targ.parentNode;\n",
       "    }\n",
       "\n",
       "    // pageX,Y are the mouse positions relative to the document\n",
       "    var boundingRect = targ.getBoundingClientRect();\n",
       "    var x = e.pageX - (boundingRect.left + document.body.scrollLeft);\n",
       "    var y = e.pageY - (boundingRect.top + document.body.scrollTop);\n",
       "\n",
       "    return { x: x, y: y };\n",
       "};\n",
       "\n",
       "/*\n",
       " * return a copy of an object with only non-object keys\n",
       " * we need this to avoid circular references\n",
       " * http://stackoverflow.com/a/24161582/3208463\n",
       " */\n",
       "function simpleKeys(original) {\n",
       "    return Object.keys(original).reduce(function (obj, key) {\n",
       "        if (typeof original[key] !== 'object') {\n",
       "            obj[key] = original[key];\n",
       "        }\n",
       "        return obj;\n",
       "    }, {});\n",
       "}\n",
       "\n",
       "mpl.figure.prototype.mouse_event = function (event, name) {\n",
       "    var canvas_pos = mpl.findpos(event);\n",
       "\n",
       "    if (name === 'button_press') {\n",
       "        this.canvas.focus();\n",
       "        this.canvas_div.focus();\n",
       "    }\n",
       "\n",
       "    var x = canvas_pos.x * this.ratio;\n",
       "    var y = canvas_pos.y * this.ratio;\n",
       "\n",
       "    this.send_message(name, {\n",
       "        x: x,\n",
       "        y: y,\n",
       "        button: event.button,\n",
       "        step: event.step,\n",
       "        guiEvent: simpleKeys(event),\n",
       "    });\n",
       "\n",
       "    /* This prevents the web browser from automatically changing to\n",
       "     * the text insertion cursor when the button is pressed.  We want\n",
       "     * to control all of the cursor setting manually through the\n",
       "     * 'cursor' event from matplotlib */\n",
       "    event.preventDefault();\n",
       "    return false;\n",
       "};\n",
       "\n",
       "mpl.figure.prototype._key_event_extra = function (_event, _name) {\n",
       "    // Handle any extra behaviour associated with a key event\n",
       "};\n",
       "\n",
       "mpl.figure.prototype.key_event = function (event, name) {\n",
       "    // Prevent repeat events\n",
       "    if (name === 'key_press') {\n",
       "        if (event.which === this._key) {\n",
       "            return;\n",
       "        } else {\n",
       "            this._key = event.which;\n",
       "        }\n",
       "    }\n",
       "    if (name === 'key_release') {\n",
       "        this._key = null;\n",
       "    }\n",
       "\n",
       "    var value = '';\n",
       "    if (event.ctrlKey && event.which !== 17) {\n",
       "        value += 'ctrl+';\n",
       "    }\n",
       "    if (event.altKey && event.which !== 18) {\n",
       "        value += 'alt+';\n",
       "    }\n",
       "    if (event.shiftKey && event.which !== 16) {\n",
       "        value += 'shift+';\n",
       "    }\n",
       "\n",
       "    value += 'k';\n",
       "    value += event.which.toString();\n",
       "\n",
       "    this._key_event_extra(event, name);\n",
       "\n",
       "    this.send_message(name, { key: value, guiEvent: simpleKeys(event) });\n",
       "    return false;\n",
       "};\n",
       "\n",
       "mpl.figure.prototype.toolbar_button_onclick = function (name) {\n",
       "    if (name === 'download') {\n",
       "        this.handle_save(this, null);\n",
       "    } else {\n",
       "        this.send_message('toolbar_button', { name: name });\n",
       "    }\n",
       "};\n",
       "\n",
       "mpl.figure.prototype.toolbar_button_onmouseover = function (tooltip) {\n",
       "    this.message.textContent = tooltip;\n",
       "};\n",
       "mpl.toolbar_items = [[\"Home\", \"Reset original view\", \"fa fa-home icon-home\", \"home\"], [\"Back\", \"Back to previous view\", \"fa fa-arrow-left icon-arrow-left\", \"back\"], [\"Forward\", \"Forward to next view\", \"fa fa-arrow-right icon-arrow-right\", \"forward\"], [\"\", \"\", \"\", \"\"], [\"Pan\", \"Left button pans, Right button zooms\\nx/y fixes axis, CTRL fixes aspect\", \"fa fa-arrows icon-move\", \"pan\"], [\"Zoom\", \"Zoom to rectangle\\nx/y fixes axis, CTRL fixes aspect\", \"fa fa-square-o icon-check-empty\", \"zoom\"], [\"\", \"\", \"\", \"\"], [\"Download\", \"Download plot\", \"fa fa-floppy-o icon-save\", \"download\"]];\n",
       "\n",
       "mpl.extensions = [\"eps\", \"jpeg\", \"pdf\", \"png\", \"ps\", \"raw\", \"svg\", \"tif\"];\n",
       "\n",
       "mpl.default_extension = \"png\";/* global mpl */\n",
       "\n",
       "var comm_websocket_adapter = function (comm) {\n",
       "    // Create a \"websocket\"-like object which calls the given IPython comm\n",
       "    // object with the appropriate methods. Currently this is a non binary\n",
       "    // socket, so there is still some room for performance tuning.\n",
       "    var ws = {};\n",
       "\n",
       "    ws.close = function () {\n",
       "        comm.close();\n",
       "    };\n",
       "    ws.send = function (m) {\n",
       "        //console.log('sending', m);\n",
       "        comm.send(m);\n",
       "    };\n",
       "    // Register the callback with on_msg.\n",
       "    comm.on_msg(function (msg) {\n",
       "        //console.log('receiving', msg['content']['data'], msg);\n",
       "        // Pass the mpl event to the overridden (by mpl) onmessage function.\n",
       "        ws.onmessage(msg['content']['data']);\n",
       "    });\n",
       "    return ws;\n",
       "};\n",
       "\n",
       "mpl.mpl_figure_comm = function (comm, msg) {\n",
       "    // This is the function which gets called when the mpl process\n",
       "    // starts-up an IPython Comm through the \"matplotlib\" channel.\n",
       "\n",
       "    var id = msg.content.data.id;\n",
       "    // Get hold of the div created by the display call when the Comm\n",
       "    // socket was opened in Python.\n",
       "    var element = document.getElementById(id);\n",
       "    var ws_proxy = comm_websocket_adapter(comm);\n",
       "\n",
       "    function ondownload(figure, _format) {\n",
       "        window.open(figure.canvas.toDataURL());\n",
       "    }\n",
       "\n",
       "    var fig = new mpl.figure(id, ws_proxy, ondownload, element);\n",
       "\n",
       "    // Call onopen now - mpl needs it, as it is assuming we've passed it a real\n",
       "    // web socket which is closed, not our websocket->open comm proxy.\n",
       "    ws_proxy.onopen();\n",
       "\n",
       "    fig.parent_element = element;\n",
       "    fig.cell_info = mpl.find_output_cell(\"<div id='\" + id + \"'></div>\");\n",
       "    if (!fig.cell_info) {\n",
       "        console.error('Failed to find cell for figure', id, fig);\n",
       "        return;\n",
       "    }\n",
       "    fig.cell_info[0].output_area.element.one(\n",
       "        'cleared',\n",
       "        { fig: fig },\n",
       "        fig._remove_fig_handler\n",
       "    );\n",
       "};\n",
       "\n",
       "mpl.figure.prototype.handle_close = function (fig, msg) {\n",
       "    var width = fig.canvas.width / fig.ratio;\n",
       "    fig.cell_info[0].output_area.element.off(\n",
       "        'cleared',\n",
       "        fig._remove_fig_handler\n",
       "    );\n",
       "\n",
       "    // Update the output cell to use the data from the current canvas.\n",
       "    fig.push_to_output();\n",
       "    var dataURL = fig.canvas.toDataURL();\n",
       "    // Re-enable the keyboard manager in IPython - without this line, in FF,\n",
       "    // the notebook keyboard shortcuts fail.\n",
       "    IPython.keyboard_manager.enable();\n",
       "    fig.parent_element.innerHTML =\n",
       "        '<img src=\"' + dataURL + '\" width=\"' + width + '\">';\n",
       "    fig.close_ws(fig, msg);\n",
       "};\n",
       "\n",
       "mpl.figure.prototype.close_ws = function (fig, msg) {\n",
       "    fig.send_message('closing', msg);\n",
       "    // fig.ws.close()\n",
       "};\n",
       "\n",
       "mpl.figure.prototype.push_to_output = function (_remove_interactive) {\n",
       "    // Turn the data on the canvas into data in the output cell.\n",
       "    var width = this.canvas.width / this.ratio;\n",
       "    var dataURL = this.canvas.toDataURL();\n",
       "    this.cell_info[1]['text/html'] =\n",
       "        '<img src=\"' + dataURL + '\" width=\"' + width + '\">';\n",
       "};\n",
       "\n",
       "mpl.figure.prototype.updated_canvas_event = function () {\n",
       "    // Tell IPython that the notebook contents must change.\n",
       "    IPython.notebook.set_dirty(true);\n",
       "    this.send_message('ack', {});\n",
       "    var fig = this;\n",
       "    // Wait a second, then push the new image to the DOM so\n",
       "    // that it is saved nicely (might be nice to debounce this).\n",
       "    setTimeout(function () {\n",
       "        fig.push_to_output();\n",
       "    }, 1000);\n",
       "};\n",
       "\n",
       "mpl.figure.prototype._init_toolbar = function () {\n",
       "    var fig = this;\n",
       "\n",
       "    var toolbar = document.createElement('div');\n",
       "    toolbar.classList = 'btn-toolbar';\n",
       "    this.root.appendChild(toolbar);\n",
       "\n",
       "    function on_click_closure(name) {\n",
       "        return function (_event) {\n",
       "            return fig.toolbar_button_onclick(name);\n",
       "        };\n",
       "    }\n",
       "\n",
       "    function on_mouseover_closure(tooltip) {\n",
       "        return function (event) {\n",
       "            if (!event.currentTarget.disabled) {\n",
       "                return fig.toolbar_button_onmouseover(tooltip);\n",
       "            }\n",
       "        };\n",
       "    }\n",
       "\n",
       "    fig.buttons = {};\n",
       "    var buttonGroup = document.createElement('div');\n",
       "    buttonGroup.classList = 'btn-group';\n",
       "    var button;\n",
       "    for (var toolbar_ind in mpl.toolbar_items) {\n",
       "        var name = mpl.toolbar_items[toolbar_ind][0];\n",
       "        var tooltip = mpl.toolbar_items[toolbar_ind][1];\n",
       "        var image = mpl.toolbar_items[toolbar_ind][2];\n",
       "        var method_name = mpl.toolbar_items[toolbar_ind][3];\n",
       "\n",
       "        if (!name) {\n",
       "            /* Instead of a spacer, we start a new button group. */\n",
       "            if (buttonGroup.hasChildNodes()) {\n",
       "                toolbar.appendChild(buttonGroup);\n",
       "            }\n",
       "            buttonGroup = document.createElement('div');\n",
       "            buttonGroup.classList = 'btn-group';\n",
       "            continue;\n",
       "        }\n",
       "\n",
       "        button = fig.buttons[name] = document.createElement('button');\n",
       "        button.classList = 'btn btn-default';\n",
       "        button.href = '#';\n",
       "        button.title = name;\n",
       "        button.innerHTML = '<i class=\"fa ' + image + ' fa-lg\"></i>';\n",
       "        button.addEventListener('click', on_click_closure(method_name));\n",
       "        button.addEventListener('mouseover', on_mouseover_closure(tooltip));\n",
       "        buttonGroup.appendChild(button);\n",
       "    }\n",
       "\n",
       "    if (buttonGroup.hasChildNodes()) {\n",
       "        toolbar.appendChild(buttonGroup);\n",
       "    }\n",
       "\n",
       "    // Add the status bar.\n",
       "    var status_bar = document.createElement('span');\n",
       "    status_bar.classList = 'mpl-message pull-right';\n",
       "    toolbar.appendChild(status_bar);\n",
       "    this.message = status_bar;\n",
       "\n",
       "    // Add the close button to the window.\n",
       "    var buttongrp = document.createElement('div');\n",
       "    buttongrp.classList = 'btn-group inline pull-right';\n",
       "    button = document.createElement('button');\n",
       "    button.classList = 'btn btn-mini btn-primary';\n",
       "    button.href = '#';\n",
       "    button.title = 'Stop Interaction';\n",
       "    button.innerHTML = '<i class=\"fa fa-power-off icon-remove icon-large\"></i>';\n",
       "    button.addEventListener('click', function (_evt) {\n",
       "        fig.handle_close(fig, {});\n",
       "    });\n",
       "    button.addEventListener(\n",
       "        'mouseover',\n",
       "        on_mouseover_closure('Stop Interaction')\n",
       "    );\n",
       "    buttongrp.appendChild(button);\n",
       "    var titlebar = this.root.querySelector('.ui-dialog-titlebar');\n",
       "    titlebar.insertBefore(buttongrp, titlebar.firstChild);\n",
       "};\n",
       "\n",
       "mpl.figure.prototype._remove_fig_handler = function (event) {\n",
       "    var fig = event.data.fig;\n",
       "    fig.close_ws(fig, {});\n",
       "};\n",
       "\n",
       "mpl.figure.prototype._root_extra_style = function (el) {\n",
       "    el.style.boxSizing = 'content-box'; // override notebook setting of border-box.\n",
       "};\n",
       "\n",
       "mpl.figure.prototype._canvas_extra_style = function (el) {\n",
       "    // this is important to make the div 'focusable\n",
       "    el.setAttribute('tabindex', 0);\n",
       "    // reach out to IPython and tell the keyboard manager to turn it's self\n",
       "    // off when our div gets focus\n",
       "\n",
       "    // location in version 3\n",
       "    if (IPython.notebook.keyboard_manager) {\n",
       "        IPython.notebook.keyboard_manager.register_events(el);\n",
       "    } else {\n",
       "        // location in version 2\n",
       "        IPython.keyboard_manager.register_events(el);\n",
       "    }\n",
       "};\n",
       "\n",
       "mpl.figure.prototype._key_event_extra = function (event, _name) {\n",
       "    var manager = IPython.notebook.keyboard_manager;\n",
       "    if (!manager) {\n",
       "        manager = IPython.keyboard_manager;\n",
       "    }\n",
       "\n",
       "    // Check for shift+enter\n",
       "    if (event.shiftKey && event.which === 13) {\n",
       "        this.canvas_div.blur();\n",
       "        // select the cell after this one\n",
       "        var index = IPython.notebook.find_cell_index(this.cell_info[0]);\n",
       "        IPython.notebook.select(index + 1);\n",
       "    }\n",
       "};\n",
       "\n",
       "mpl.figure.prototype.handle_save = function (fig, _msg) {\n",
       "    fig.ondownload(fig, null);\n",
       "};\n",
       "\n",
       "mpl.find_output_cell = function (html_output) {\n",
       "    // Return the cell and output element which can be found *uniquely* in the notebook.\n",
       "    // Note - this is a bit hacky, but it is done because the \"notebook_saving.Notebook\"\n",
       "    // IPython event is triggered only after the cells have been serialised, which for\n",
       "    // our purposes (turning an active figure into a static one), is too late.\n",
       "    var cells = IPython.notebook.get_cells();\n",
       "    var ncells = cells.length;\n",
       "    for (var i = 0; i < ncells; i++) {\n",
       "        var cell = cells[i];\n",
       "        if (cell.cell_type === 'code') {\n",
       "            for (var j = 0; j < cell.output_area.outputs.length; j++) {\n",
       "                var data = cell.output_area.outputs[j];\n",
       "                if (data.data) {\n",
       "                    // IPython >= 3 moved mimebundle to data attribute of output\n",
       "                    data = data.data;\n",
       "                }\n",
       "                if (data['text/html'] === html_output) {\n",
       "                    return [cell, data, j];\n",
       "                }\n",
       "            }\n",
       "        }\n",
       "    }\n",
       "};\n",
       "\n",
       "// Register the function which deals with the matplotlib target/channel.\n",
       "// The kernel may be null if the page has been refreshed.\n",
       "if (IPython.notebook.kernel !== null) {\n",
       "    IPython.notebook.kernel.comm_manager.register_target(\n",
       "        'matplotlib',\n",
       "        mpl.mpl_figure_comm\n",
       "    );\n",
       "}\n"
      ],
      "text/plain": [
       "<IPython.core.display.Javascript object>"
      ]
     },
     "metadata": {},
     "output_type": "display_data"
    },
    {
     "data": {
      "text/html": [
       "<img src=\"data:image/png;base64,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\" width=\"640\">"
      ],
      "text/plain": [
       "<IPython.core.display.HTML object>"
      ]
     },
     "metadata": {},
     "output_type": "display_data"
    }
   ],
   "source": [
    "import reflections\n",
    "from reflections import plt_incidence, plt_to_subs, plt_from_subs\n",
    "\n",
    "plt.axhline(color = 'black')  # X axis\n",
    "plt.axvline(color = 'black')  # Y Axis\n",
    "\n",
    "plt.xlim(-(k + 10), a2 + 10)\n",
    "plt.ylim(-10, b2 + 10)\n",
    "    \n",
    "rx, ry = np.meshgrid(np.arange(-60, 60, 0.05),np.arange(-10, 110, 0.05))\n",
    "plt.contour(rx, ry, rx**2 + (ry - k)**2 - k**2 , [0], colors = 'limegreen') #Roller\n",
    "    \n",
    "itx, ity = np.meshgrid(np.arange(pq[0], a2, 0.05),np.arange(pq[1], b2, 0.05))\n",
    "plt.contour(itx, ity, (b2 - pq[1]) * (itx - a2) + (pq[0] - a2) * (ity - b2), [0], colors = 'm') #Incoming tape\n",
    "\n",
    "# Incidence\n",
    "s0_eqns = list(sid.keys())\n",
    "plt_incidence(sid.values(), s0_eqns, a0, b0)\n",
    "\n",
    "it0_eqns = list(tid.keys())\n",
    "plt_incidence(tid.values(), it0_eqns, a0, b0)\n",
    "\n",
    "rol0_eqns = list(rol.keys())\n",
    "plt_incidence(rol.values(), rol0_eqns, a0, b0)\n",
    "\n",
    "# 1st reflection\n",
    "plt_to_subs(it2subs1_soln, tid.values(), it1_eqns)\n",
    "\n",
    "plt_to_subs(rol2subs1_soln, rol.values(), rol1_eqns)\n",
    "\n",
    "all_subs1_soln = subs2rol1_soln + subs2it1_soln\n",
    "all_subs1_eqns = subs2rol1_eqns + subs2it1_eqns\n",
    "\n",
    "plt_from_subs(all_subs1_soln, all_subs1_eqns)\n",
    "\n",
    "# 2nd reflection\n",
    "# plt_to_subs(it2subs2_soln, subs2it1_soln, it2_eqns)\n",
    "\n",
    "# plt_to_subs(rol2subs2_soln, subs2rol1_soln, rol2_eqns)\n",
    "\n",
    "# all_subs2_soln = subs2rol2_soln + subs2it2_soln\n",
    "# all_subs2_eqns = subs2rol2_eqns + subs2it2_eqns\n",
    "\n",
    "# plt_from_subs(all_subs2_soln, all_subs2_eqns)\n",
    "\n",
    "#3rd reflection\n",
    "\n",
    "# plt_to_subs(it2subs3_soln, subs2it2_soln, it3_eqns)\n",
    "\n",
    "# plt_to_subs(rol2subs3_soln, subs2rol2_soln, rol3_eqns)\n",
    "\n",
    "# all_subs3_soln = subs2rol3_soln + subs2it3_soln\n",
    "# all_subs3_eqns = subs2rol3_eqns + subs2it3_eqns\n",
    "\n",
    "# plt_from_subs(all_subs3_soln, all_subs3_eqns)\n",
    "\n",
    "#plt.savefig(\"1.a_30.svg\")\n",
    "#plt.savefig(\"3.c_18.jpg\", dpi = 600)\n"
   ]
  },
  {
   "cell_type": "code",
   "execution_count": null,
   "metadata": {},
   "outputs": [],
   "source": []
  }
 ],
 "metadata": {
  "kernelspec": {
   "display_name": "Python 3",
   "language": "python",
   "name": "python3"
  },
  "language_info": {
   "codemirror_mode": {
    "name": "ipython",
    "version": 3
   },
   "file_extension": ".py",
   "mimetype": "text/x-python",
   "name": "python",
   "nbconvert_exporter": "python",
   "pygments_lexer": "ipython3",
   "version": "3.8.5"
  }
 },
 "nbformat": 4,
 "nbformat_minor": 4
}
